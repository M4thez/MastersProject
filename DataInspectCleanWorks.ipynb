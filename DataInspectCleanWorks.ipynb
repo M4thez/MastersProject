{
 "cells": [
  {
   "cell_type": "markdown",
   "id": "6c4d73bf",
   "metadata": {},
   "source": [
    "# Data clean up from the parquet file"
   ]
  },
  {
   "cell_type": "code",
   "execution_count": 1,
   "id": "d20471be",
   "metadata": {},
   "outputs": [],
   "source": [
    "import pandas as pd\n",
    "import sys  # To exit gracefully on error"
   ]
  },
  {
   "cell_type": "code",
   "execution_count": 2,
   "id": "1eae735f",
   "metadata": {},
   "outputs": [],
   "source": [
    "# --- Configuration ---\n",
    "# Set the path to the Parquet file\n",
    "# Update this path as needed\n",
    "PARQUET_FILE_PATH = 'university_papers_data_full.parquet'"
   ]
  },
  {
   "cell_type": "code",
   "execution_count": 3,
   "id": "2c1c4911",
   "metadata": {},
   "outputs": [
    {
     "name": "stdout",
     "output_type": "stream",
     "text": [
      "Attempting to read Parquet file: university_papers_data_full.parquet\n",
      "Successfully loaded Parquet file into DataFrame.\n"
     ]
    }
   ],
   "source": [
    "# --- Read the Parquet File ---\n",
    "print(f\"Attempting to read Parquet file: {PARQUET_FILE_PATH}\")\n",
    "try:\n",
    "    # Use pandas read_parquet function\n",
    "    # Specify the engine if needed (usually auto-detected, but 'pyarrow' is explicit)\n",
    "    df = pd.read_parquet(PARQUET_FILE_PATH, engine='pyarrow')\n",
    "    print(\"Successfully loaded Parquet file into DataFrame.\")\n",
    "\n",
    "except FileNotFoundError:\n",
    "    print(f\"Error: File not found at '{PARQUET_FILE_PATH}'\")\n",
    "    print(\"Please ensure the file exists and the path is correct.\")\n",
    "    sys.exit(1)  # Exit the script with an error code\n",
    "except ImportError:\n",
    "    print(\"Error: Missing dependency. Please install pandas and pyarrow:\")\n",
    "    print(\"pip install pandas pyarrow\")\n",
    "    sys.exit(1)\n",
    "except Exception as e:\n",
    "    print(f\"An unexpected error occurred while reading the file: {e}\")\n",
    "    sys.exit(1)"
   ]
  },
  {
   "cell_type": "code",
   "execution_count": 8,
   "id": "06b3886f",
   "metadata": {},
   "outputs": [
    {
     "data": {
      "text/html": [
       "<div>\n",
       "<style scoped>\n",
       "    .dataframe tbody tr th:only-of-type {\n",
       "        vertical-align: middle;\n",
       "    }\n",
       "\n",
       "    .dataframe tbody tr th {\n",
       "        vertical-align: top;\n",
       "    }\n",
       "\n",
       "    .dataframe thead th {\n",
       "        text-align: right;\n",
       "    }\n",
       "</style>\n",
       "<table border=\"1\" class=\"dataframe\">\n",
       "  <thead>\n",
       "    <tr style=\"text-align: right;\">\n",
       "      <th></th>\n",
       "      <th>openalex_id</th>\n",
       "      <th>doi</th>\n",
       "      <th>language</th>\n",
       "      <th>type</th>\n",
       "      <th>title</th>\n",
       "      <th>publication_date</th>\n",
       "      <th>primary_location</th>\n",
       "      <th>open_access</th>\n",
       "      <th>institutions</th>\n",
       "      <th>authors</th>\n",
       "      <th>...</th>\n",
       "      <th>is_retracted</th>\n",
       "      <th>is_paratext</th>\n",
       "      <th>abstract</th>\n",
       "      <th>primary_topic</th>\n",
       "      <th>topics</th>\n",
       "      <th>keywords</th>\n",
       "      <th>cited_by_api_url</th>\n",
       "      <th>updated_date</th>\n",
       "      <th>created_date</th>\n",
       "      <th>university_key</th>\n",
       "    </tr>\n",
       "  </thead>\n",
       "  <tbody>\n",
       "    <tr>\n",
       "      <th>26738</th>\n",
       "      <td>https://openalex.org/W4393187435</td>\n",
       "      <td>https://doi.org/10.3390/jpm14040346</td>\n",
       "      <td>en</td>\n",
       "      <td>article</td>\n",
       "      <td>Investigating ABO Blood Groups and Secretor St...</td>\n",
       "      <td>2024-03-26</td>\n",
       "      <td>{'is_accepted': True, 'is_oa': True, 'is_publi...</td>\n",
       "      <td>{'any_repository_has_fulltext': True, 'is_oa':...</td>\n",
       "      <td>[National and Kapodistrian University of Athen...</td>\n",
       "      <td>[Stefanos Ferous, Nikolaos Siafakas, Fotini Bo...</td>\n",
       "      <td>...</td>\n",
       "      <td>False</td>\n",
       "      <td>False</td>\n",
       "      <td>The ABO blood groups, Lewis antigens, and secr...</td>\n",
       "      <td>{'display_name': 'Blood groups and transfusion...</td>\n",
       "      <td>[{'display_name': 'Blood groups and transfusio...</td>\n",
       "      <td>[{'display_name': 'Pandemic', 'id': 'https://o...</td>\n",
       "      <td>https://api.openalex.org/works?filter=cites:W4...</td>\n",
       "      <td>2025-04-22T07:32:10.884563</td>\n",
       "      <td>2024-03-27</td>\n",
       "      <td>GR_UOP</td>\n",
       "    </tr>\n",
       "  </tbody>\n",
       "</table>\n",
       "<p>1 rows × 23 columns</p>\n",
       "</div>"
      ],
      "text/plain": [
       "                            openalex_id                                  doi  \\\n",
       "26738  https://openalex.org/W4393187435  https://doi.org/10.3390/jpm14040346   \n",
       "\n",
       "      language     type                                              title  \\\n",
       "26738       en  article  Investigating ABO Blood Groups and Secretor St...   \n",
       "\n",
       "      publication_date                                   primary_location  \\\n",
       "26738       2024-03-26  {'is_accepted': True, 'is_oa': True, 'is_publi...   \n",
       "\n",
       "                                             open_access  \\\n",
       "26738  {'any_repository_has_fulltext': True, 'is_oa':...   \n",
       "\n",
       "                                            institutions  \\\n",
       "26738  [National and Kapodistrian University of Athen...   \n",
       "\n",
       "                                                 authors  ...  is_retracted  \\\n",
       "26738  [Stefanos Ferous, Nikolaos Siafakas, Fotini Bo...  ...         False   \n",
       "\n",
       "       is_paratext                                           abstract  \\\n",
       "26738        False  The ABO blood groups, Lewis antigens, and secr...   \n",
       "\n",
       "                                           primary_topic  \\\n",
       "26738  {'display_name': 'Blood groups and transfusion...   \n",
       "\n",
       "                                                  topics  \\\n",
       "26738  [{'display_name': 'Blood groups and transfusio...   \n",
       "\n",
       "                                                keywords  \\\n",
       "26738  [{'display_name': 'Pandemic', 'id': 'https://o...   \n",
       "\n",
       "                                        cited_by_api_url  \\\n",
       "26738  https://api.openalex.org/works?filter=cites:W4...   \n",
       "\n",
       "                     updated_date created_date university_key  \n",
       "26738  2025-04-22T07:32:10.884563   2024-03-27         GR_UOP  \n",
       "\n",
       "[1 rows x 23 columns]"
      ]
     },
     "execution_count": 8,
     "metadata": {},
     "output_type": "execute_result"
    }
   ],
   "source": [
    "oa_papers = df[df['open_access'].apply(lambda x: x['is_oa'] == True)]\n",
    "\n",
    "oa_papers.sample(1)"
   ]
  },
  {
   "cell_type": "code",
   "execution_count": 4,
   "id": "efd6cc5e",
   "metadata": {},
   "outputs": [
    {
     "name": "stdout",
     "output_type": "stream",
     "text": [
      "\n",
      "--- DataFrame Inspection ---\n",
      "\n",
      "1. Shape (rows, columns): (133964, 23)\n"
     ]
    }
   ],
   "source": [
    "# --- Inspect the DataFrame ---\n",
    "print(\"\\n--- DataFrame Inspection ---\")\n",
    "# 1. Dimensions (Rows, Columns)\n",
    "print(f\"\\n1. Shape (rows, columns): {df.shape}\")"
   ]
  },
  {
   "cell_type": "code",
   "execution_count": 5,
   "id": "897649f6",
   "metadata": {},
   "outputs": [
    {
     "name": "stdout",
     "output_type": "stream",
     "text": [
      "\n",
      "2. First 5 rows (head):\n",
      "                        openalex_id  \\\n",
      "0  https://openalex.org/W2059474375   \n",
      "1  https://openalex.org/W2096769811   \n",
      "2  https://openalex.org/W2769188897   \n",
      "3  https://openalex.org/W2012883856   \n",
      "4  https://openalex.org/W2884312484   \n",
      "\n",
      "                                                 doi language     type  \\\n",
      "0  https://doi.org/10.1016/j.progpolymsci.2012.04...       en  article   \n",
      "1             https://doi.org/10.1002/mame.201300008       en  article   \n",
      "2            https://doi.org/10.1111/1541-4337.12322       en  article   \n",
      "3       https://doi.org/10.1016/j.seppur.2010.03.021       en   review   \n",
      "4        https://doi.org/10.1016/j.omega.2018.07.004       en  article   \n",
      "\n",
      "                                               title publication_date  \\\n",
      "0  Biocomposites reinforced with natural fibers: ...       2012-05-02   \n",
      "1  Progress Report on Natural Fiber Reinforced Co...       2013-06-19   \n",
      "2             Active Packaging Applications for Food       2017-11-28   \n",
      "3  Photocatalytic membrane reactors (PMRs) in wat...       2010-04-01   \n",
      "4  Generalised framework for multi-criteria metho...       2018-07-21   \n",
      "\n",
      "                                    primary_location  \\\n",
      "0  {'is_accepted': False, 'is_oa': False, 'is_pub...   \n",
      "1  {'is_accepted': True, 'is_oa': True, 'is_publi...   \n",
      "2  {'is_accepted': True, 'is_oa': True, 'is_publi...   \n",
      "3  {'is_accepted': False, 'is_oa': False, 'is_pub...   \n",
      "4  {'is_accepted': True, 'is_oa': True, 'is_publi...   \n",
      "\n",
      "                                         open_access  \\\n",
      "0  {'any_repository_has_fulltext': False, 'is_oa'...   \n",
      "1  {'any_repository_has_fulltext': False, 'is_oa'...   \n",
      "2  {'any_repository_has_fulltext': True, 'is_oa':...   \n",
      "3  {'any_repository_has_fulltext': False, 'is_oa'...   \n",
      "4  {'any_repository_has_fulltext': True, 'is_oa':...   \n",
      "\n",
      "                                        institutions  \\\n",
      "0  [University of Toronto, University of Kassel, ...   \n",
      "1  [University of Kassel, University of Toronto, ...   \n",
      "2  [ZHAW Zurich University of Applied Sciences, N...   \n",
      "3         [West Pomeranian University of Technology]   \n",
      "4  [University of Szczecin, West Pomeranian Unive...   \n",
      "\n",
      "                                             authors  ...  is_retracted  \\\n",
      "0  [Omar Faruk, Andrzej K. Błędzki, Hans‐Peter Fi...  ...         False   \n",
      "1  [Omar Faruk, Andrzej K. Błędzki, Hans‐Peter Fi...  ...         False   \n",
      "2  [Selçuk Yildirim, Bettina Röcker, Marit Kvalvå...  ...         False   \n",
      "3                                     [Sylwia Mozia]  ...         False   \n",
      "4  [Jarosław Wątróbski, Jarosław Jankowski, Paweł...  ...         False   \n",
      "\n",
      "   is_paratext                                           abstract  \\\n",
      "0        False                                               None   \n",
      "1        False  This century has witnessed remarkable achievem...   \n",
      "2        False  Abstract The traditional role of food packagin...   \n",
      "3        False                                               None   \n",
      "4        False  Multi-Criteria Decision Analysis (MCDA) method...   \n",
      "\n",
      "                                       primary_topic  \\\n",
      "0  {'display_name': 'Natural Fiber Reinforced Com...   \n",
      "1  {'display_name': 'Natural Fiber Reinforced Com...   \n",
      "2  {'display_name': 'Nanocomposite Films for Food...   \n",
      "3  {'display_name': 'Advanced Photocatalysis Tech...   \n",
      "4  {'display_name': 'Multi-Criteria Decision Maki...   \n",
      "\n",
      "                                              topics  \\\n",
      "0  [{'display_name': 'Natural Fiber Reinforced Co...   \n",
      "1  [{'display_name': 'Natural Fiber Reinforced Co...   \n",
      "2  [{'display_name': 'Nanocomposite Films for Foo...   \n",
      "3  [{'display_name': 'Advanced Photocatalysis Tec...   \n",
      "4  [{'display_name': 'Multi-Criteria Decision Mak...   \n",
      "\n",
      "                                            keywords  \\\n",
      "0  [{'display_name': 'Biocomposite', 'id': 'https...   \n",
      "1  [{'display_name': 'Petrochemical', 'id': 'http...   \n",
      "2  [{'display_name': 'Active packaging', 'id': 'h...   \n",
      "3  [{'display_name': 'Membrane reactor', 'id': 'h...   \n",
      "4                                                 []   \n",
      "\n",
      "                                    cited_by_api_url  \\\n",
      "0  https://api.openalex.org/works?filter=cites:W2...   \n",
      "1  https://api.openalex.org/works?filter=cites:W2...   \n",
      "2  https://api.openalex.org/works?filter=cites:W2...   \n",
      "3  https://api.openalex.org/works?filter=cites:W2...   \n",
      "4  https://api.openalex.org/works?filter=cites:W2...   \n",
      "\n",
      "                 updated_date created_date university_key  \n",
      "0  2025-04-13T22:56:06.250439   2016-06-24         PL_ZUT  \n",
      "1  2025-04-18T05:52:13.993578   2016-06-24         PL_ZUT  \n",
      "2  2025-04-13T16:04:26.173239   2017-12-04         PL_ZUT  \n",
      "3  2025-03-17T13:33:42.845727   2016-06-24         PL_ZUT  \n",
      "4  2025-04-20T01:24:59.886744   2018-08-03         PL_ZUT  \n",
      "\n",
      "[5 rows x 23 columns]\n"
     ]
    }
   ],
   "source": [
    "# 2. First 5 Rows\n",
    "print(\"\\n2. First 5 rows (head):\")\n",
    "# pd.set_option('display.max_columns', None) # Uncomment to show all columns if wide\n",
    "print(df.head())\n",
    "# pd.reset_option('display.max_columns') # Uncomment to reset display option"
   ]
  },
  {
   "cell_type": "code",
   "execution_count": 6,
   "id": "48ae4b10",
   "metadata": {},
   "outputs": [
    {
     "name": "stdout",
     "output_type": "stream",
     "text": [
      "\n",
      "3. Column names:\n",
      "['openalex_id', 'doi', 'language', 'type', 'title', 'publication_date', 'primary_location', 'open_access', 'institutions', 'authors', 'cited_by_count', 'fwci', 'citation_normalized_percentile', 'is_retracted', 'is_paratext', 'abstract', 'primary_topic', 'topics', 'keywords', 'cited_by_api_url', 'updated_date', 'created_date', 'university_key']\n"
     ]
    }
   ],
   "source": [
    "# 3. Column Names\n",
    "print(\"\\n3. Column names:\")\n",
    "print(list(df.columns))"
   ]
  },
  {
   "cell_type": "code",
   "execution_count": 7,
   "id": "580a117c",
   "metadata": {},
   "outputs": [
    {
     "name": "stdout",
     "output_type": "stream",
     "text": [
      "\n",
      "4. Data types and non-null info:\n",
      "<class 'pandas.core.frame.DataFrame'>\n",
      "RangeIndex: 133964 entries, 0 to 133963\n",
      "Data columns (total 23 columns):\n",
      " #   Column                          Non-Null Count   Dtype  \n",
      "---  ------                          --------------   -----  \n",
      " 0   openalex_id                     133964 non-null  object \n",
      " 1   doi                             121318 non-null  object \n",
      " 2   language                        133311 non-null  object \n",
      " 3   type                            133964 non-null  object \n",
      " 4   title                           133621 non-null  object \n",
      " 5   publication_date                133964 non-null  object \n",
      " 6   primary_location                132680 non-null  object \n",
      " 7   open_access                     133964 non-null  object \n",
      " 8   institutions                    133964 non-null  object \n",
      " 9   authors                         133964 non-null  object \n",
      " 10  cited_by_count                  133964 non-null  int64  \n",
      " 11  fwci                            124437 non-null  float64\n",
      " 12  citation_normalized_percentile  132293 non-null  object \n",
      " 13  is_retracted                    133964 non-null  bool   \n",
      " 14  is_paratext                     133964 non-null  bool   \n",
      " 15  abstract                        84372 non-null   object \n",
      " 16  primary_topic                   132545 non-null  object \n",
      " 17  topics                          133964 non-null  object \n",
      " 18  keywords                        133964 non-null  object \n",
      " 19  cited_by_api_url                133964 non-null  object \n",
      " 20  updated_date                    133964 non-null  object \n",
      " 21  created_date                    133964 non-null  object \n",
      " 22  university_key                  133964 non-null  object \n",
      "dtypes: bool(2), float64(1), int64(1), object(19)\n",
      "memory usage: 21.7+ MB\n"
     ]
    }
   ],
   "source": [
    "# 4. Data Types and Non-Null Counts\n",
    "print(\"\\n4. Data types and non-null info:\")\n",
    "# This is very useful to see if data types were inferred correctly and find missing values\n",
    "df.info(verbose=True, show_counts=True)"
   ]
  },
  {
   "cell_type": "code",
   "execution_count": 8,
   "id": "6fc5646f",
   "metadata": {},
   "outputs": [
    {
     "name": "stdout",
     "output_type": "stream",
     "text": [
      "\n",
      "5. Summary statistics (numerical columns):\n",
      "       cited_by_count           fwci\n",
      "count   133964.000000  124437.000000\n",
      "mean        20.285942       1.755948\n",
      "std         77.344626       4.471464\n",
      "min          0.000000       0.000000\n",
      "25%          1.000000       0.000000\n",
      "50%          5.000000       0.665000\n",
      "75%         19.000000       1.920000\n",
      "max      10352.000000     330.051000\n"
     ]
    }
   ],
   "source": [
    "# 5. Summary Statistics (for numerical columns)\n",
    "print(\"\\n5. Summary statistics (numerical columns):\")\n",
    "# Includes count, mean, std, min, max, percentiles\n",
    "# Use .describe(include='all') to include stats for object/string columns too\n",
    "print(df.describe())"
   ]
  },
  {
   "cell_type": "code",
   "execution_count": 9,
   "id": "fcaaee0e",
   "metadata": {},
   "outputs": [
    {
     "name": "stdout",
     "output_type": "stream",
     "text": [
      "\n",
      "6. Count of missing values per column:\n",
      "doi                               12646\n",
      "language                            653\n",
      "title                               343\n",
      "primary_location                   1284\n",
      "fwci                               9527\n",
      "citation_normalized_percentile     1671\n",
      "abstract                          49592\n",
      "primary_topic                      1419\n",
      "dtype: int64\n"
     ]
    }
   ],
   "source": [
    "\n",
    "# 6. Check for Missing Values (count per column)\n",
    "print(\"\\n6. Count of missing values per column:\")\n",
    "missing_values = df.isnull().sum()\n",
    "# Only show columns with missing values\n",
    "print(missing_values[missing_values > 0])"
   ]
  },
  {
   "cell_type": "code",
   "execution_count": 10,
   "id": "671cc87d",
   "metadata": {},
   "outputs": [
    {
     "name": "stdout",
     "output_type": "stream",
     "text": [
      "\n",
      "7. Value counts for 'university_key':\n",
      "university_key\n",
      "GR_UOP              49574\n",
      "IT_UNISS            25083\n",
      "ES_UIB              21876\n",
      "PL_ZUT              13803\n",
      "FR_ULHN              6989\n",
      "PT_UAC               6534\n",
      "FR_UAG               3790\n",
      "HR_UNIDU             2660\n",
      "FO_UF                1791\n",
      "DE_HOCHSTRALSUND     1079\n",
      "BG_BFU                642\n",
      "FI_AUAS                76\n",
      "SL_EMUNI               67\n",
      "Name: count, dtype: int64\n"
     ]
    }
   ],
   "source": [
    "# 7. Unique Value Counts for a specific column (Example: university_key)\n",
    "if 'university_key' in df.columns:\n",
    "    print(\"\\n7. Value counts for 'university_key':\")\n",
    "    print(df['university_key'].value_counts())\n",
    "else:\n",
    "    print(\"\\n7. 'university_key' column not found.\")"
   ]
  },
  {
   "cell_type": "code",
   "execution_count": 11,
   "id": "3ec389e6",
   "metadata": {},
   "outputs": [
    {
     "name": "stdout",
     "output_type": "stream",
     "text": [
      "\n",
      "8. Data for the first paper (index 0):\n",
      "  - OpenAlex ID: https://openalex.org/W2059474375\n",
      "  - Title: Biocomposites reinforced with natural fibers: 2000–2010...\n",
      "  - University: PL_ZUT\n",
      "  - Cited By: 3697\n"
     ]
    }
   ],
   "source": [
    "# 8. Example: Accessing data for a specific paper (e.g., the first one)\n",
    "print(\"\\n8. Data for the first paper (index 0):\")\n",
    "try:\n",
    "    # Convert the first row to a dictionary for easier viewing\n",
    "    first_paper_data = df.iloc[0].to_dict()\n",
    "    # Print selected fields for brevity\n",
    "    print(f\"  - OpenAlex ID: {first_paper_data.get('openalex_id', 'N/A')}\")\n",
    "    # Preview title\n",
    "    print(f\"  - Title: {first_paper_data.get('title', 'N/A')[:80]}...\")\n",
    "    print(\n",
    "        f\"  - University: {first_paper_data.get('university_key', 'N/A')}\")\n",
    "    print(f\"  - Cited By: {first_paper_data.get('cited_by_count', 'N/A')}\")\n",
    "    # You could print the whole dictionary if needed: print(first_paper_data)\n",
    "except IndexError:\n",
    "    print(\"  DataFrame seems empty, cannot access index 0.\")"
   ]
  },
  {
   "cell_type": "code",
   "execution_count": 12,
   "id": "64bb2d91",
   "metadata": {},
   "outputs": [
    {
     "name": "stdout",
     "output_type": "stream",
     "text": [
      "\n",
      "9. Number of retracted papers: 19\n"
     ]
    }
   ],
   "source": [
    "# 9. Count of retracted papers\n",
    "if 'is_retracted' in df.columns:\n",
    "    # True is treated as 1, False as 0\n",
    "    num_retracted = df['is_retracted'].sum()\n",
    "    print(f\"\\n9. Number of retracted papers: {num_retracted}\")\n",
    "else:\n",
    "    print(\"\\n9. 'is_retracted' column not found.\")"
   ]
  },
  {
   "cell_type": "code",
   "execution_count": 13,
   "id": "94cd2b51",
   "metadata": {},
   "outputs": [
    {
     "name": "stdout",
     "output_type": "stream",
     "text": [
      "\n",
      "10. Number of paratext papers: 317\n"
     ]
    }
   ],
   "source": [
    "# 10. Count of retracted papers\n",
    "if 'is_paratext' in df.columns:\n",
    "    # True is treated as 1, False as 0\n",
    "    num_paratext = df['is_paratext'].sum()\n",
    "    print(f\"\\n10. Number of paratext papers: {num_paratext}\")\n",
    "else:\n",
    "    print(\"\\n10. 'is_paratext' column not found.\")"
   ]
  },
  {
   "cell_type": "code",
   "execution_count": 14,
   "id": "41914ff8",
   "metadata": {},
   "outputs": [
    {
     "name": "stdout",
     "output_type": "stream",
     "text": [
      "\n",
      "11. Example of a retracted paper:\n",
      "  - OpenAlex ID: https://openalex.org/W4281390396\n",
      "  - Title: Toxic and repellent impacts of botanical oils against Callosobruchus maculatus (...\n",
      "  - University: PL_ZUT\n",
      "  - Cited By: 15\n"
     ]
    }
   ],
   "source": [
    "# 11. Display one retracted paper\n",
    "if 'is_retracted' in df.columns and any(df['is_retracted']):\n",
    "    retracted_paper = df[df['is_retracted'] == True].iloc[0].to_dict()\n",
    "    print(\"\\n11. Example of a retracted paper:\")\n",
    "    print(f\"  - OpenAlex ID: {retracted_paper.get('openalex_id', 'N/A')}\")\n",
    "    print(f\"  - Title: {retracted_paper.get('title', 'N/A')[:80]}...\")\n",
    "    print(\n",
    "        f\"  - University: {retracted_paper.get('university_key', 'N/A')}\")\n",
    "    print(f\"  - Cited By: {retracted_paper.get('cited_by_count', 'N/A')}\")\n",
    "else:\n",
    "    print(\"\\n11. No retracted papers found or 'is_retracted' column missing.\")"
   ]
  },
  {
   "cell_type": "code",
   "execution_count": 15,
   "id": "1486cec5",
   "metadata": {},
   "outputs": [
    {
     "name": "stdout",
     "output_type": "stream",
     "text": [
      "\n",
      "12. Example of a paratext paper:\n",
      "  - OpenAlex ID: https://openalex.org/W4399874720\n",
      "  - University: PL_ZUT\n",
      "  - Cited By: 0\n",
      "  - Language: en\n"
     ]
    }
   ],
   "source": [
    "# 12. Display one paratext paper\n",
    "if 'is_paratext' in df.columns and any(df['is_paratext']):\n",
    "    paratext_paper = df[df['is_paratext'] == True].iloc[0].to_dict()\n",
    "    print(\"\\n12. Example of a paratext paper:\")\n",
    "    print(f\"  - OpenAlex ID: {paratext_paper.get('openalex_id', 'N/A')}\")\n",
    "    print(f\"  - University: {paratext_paper.get('university_key', 'N/A')}\")\n",
    "    print(f\"  - Cited By: {paratext_paper.get('cited_by_count', 'N/A')}\")\n",
    "    print(f\"  - Language: {paratext_paper.get('language', 'N/A')}\")\n",
    "else:\n",
    "    print(\"\\n12. No paratext papers found or 'is_paratext' column missing.\")\n"
   ]
  },
  {
   "cell_type": "code",
   "execution_count": 16,
   "id": "5724c79c",
   "metadata": {},
   "outputs": [
    {
     "name": "stdout",
     "output_type": "stream",
     "text": [
      "\n",
      "Number of papers without an abstract: 49592\n",
      "Number of papers with an abstract: 84372\n",
      "Percentage of papers with an abstract: 62.98%\n",
      "Total number of papers (shape[0]):  133964\n",
      "Total number of papers (sum):  133964\n"
     ]
    }
   ],
   "source": [
    "# 13. Count the papers without an abstract\n",
    "if 'abstract' in df.columns:\n",
    "    num_no_abstract = df['abstract'].isnull().sum()\n",
    "    print(f\"\\nNumber of papers without an abstract: {num_no_abstract}\")\n",
    "    num_with_abstract = df['abstract'].notnull().sum()\n",
    "    print(f\"Number of papers with an abstract: {num_with_abstract}\")\n",
    "    print(f\"Percentage of papers with an abstract: {num_with_abstract / df.shape[0] * 100:.2f}%\")\n",
    "    print(\"Total number of papers (shape[0]): \", df.shape[0])\n",
    "    print(\"Total number of papers (sum): \", num_no_abstract + num_with_abstract)"
   ]
  },
  {
   "cell_type": "code",
   "execution_count": 17,
   "id": "386fe544",
   "metadata": {},
   "outputs": [
    {
     "name": "stdout",
     "output_type": "stream",
     "text": [
      "\n",
      "Displaying a few random papers with all columns:\n",
      "                            openalex_id  \\\n",
      "43767  https://openalex.org/W2786679400   \n",
      "24000  https://openalex.org/W2059272342   \n",
      "94379  https://openalex.org/W4384207164   \n",
      "\n",
      "                                                   doi language     type  \\\n",
      "43767        https://doi.org/10.4018/ijwnbt.2017010104       en  article   \n",
      "24000     https://doi.org/10.1016/j.ultras.2008.04.013       en  article   \n",
      "94379  https://doi.org/10.4000/etudescaribeennes.27220       fr  article   \n",
      "\n",
      "                                                   title publication_date  \\\n",
      "43767  Analyzing Small-Cells and Distributed Antenna ...       2017-01-01   \n",
      "24000  The effect of boundary conditions on guided wa...       2008-05-18   \n",
      "94379  Les devoirs de protection et de préservation d...       2023-07-01   \n",
      "\n",
      "                                        primary_location  \\\n",
      "43767  {'is_accepted': False, 'is_oa': False, 'is_pub...   \n",
      "24000  {'is_accepted': False, 'is_oa': False, 'is_pub...   \n",
      "94379  {'is_accepted': True, 'is_oa': True, 'is_publi...   \n",
      "\n",
      "                                             open_access  \\\n",
      "43767  {'any_repository_has_fulltext': False, 'is_oa'...   \n",
      "24000  {'any_repository_has_fulltext': False, 'is_oa'...   \n",
      "94379  {'any_repository_has_fulltext': True, 'is_oa':...   \n",
      "\n",
      "                                            institutions  \\\n",
      "43767  [Research Academic Computer Technology Institu...   \n",
      "24000  [University of Ioannina, Center for Research a...   \n",
      "94379  [University of Lausanne, Centre d'Études et d'...   \n",
      "\n",
      "                                                 authors  ...  is_retracted  \\\n",
      "43767  [Christos Bouras, Vasileios Kokkinos, Αναστασί...  ...         False   \n",
      "24000  [Maria G. Vavva, Vasilios C. Protopappas, Leon...  ...         False   \n",
      "94379            [Jean Ruegg, Maurice Yip, Fabien Brial]  ...         False   \n",
      "\n",
      "       is_paratext                                           abstract  \\\n",
      "43767        False  The new generations of mobile networks will re...   \n",
      "24000        False                                               None   \n",
      "94379        False  La sentence du 12 juillet 2016 rendue par un T...   \n",
      "\n",
      "                                           primary_topic  \\\n",
      "43767  {'display_name': 'ICT Impact and Policies', 'd...   \n",
      "24000  {'display_name': 'Ultrasonics and Acoustic Wav...   \n",
      "94379  {'display_name': 'International Maritime Law I...   \n",
      "\n",
      "                                                  topics  \\\n",
      "43767  [{'display_name': 'ICT Impact and Policies', '...   \n",
      "24000  [{'display_name': 'Ultrasonics and Acoustic Wa...   \n",
      "94379  [{'display_name': 'International Maritime Law ...   \n",
      "\n",
      "                                                keywords  \\\n",
      "43767  [{'display_name': 'Operating expense', 'id': '...   \n",
      "24000  [{'display_name': 'Guided wave testing', 'id':...   \n",
      "94379                                                 []   \n",
      "\n",
      "                                        cited_by_api_url  \\\n",
      "43767  https://api.openalex.org/works?filter=cites:W2...   \n",
      "24000  https://api.openalex.org/works?filter=cites:W2...   \n",
      "94379  https://api.openalex.org/works?filter=cites:W4...   \n",
      "\n",
      "                     updated_date created_date university_key  \n",
      "43767  2025-04-23T19:42:28.136484   2018-02-23         GR_UOP  \n",
      "24000  2025-04-19T10:46:50.467671   2016-06-24         GR_UOP  \n",
      "94379  2025-04-14T08:36:46.112237   2023-07-14         FR_UAG  \n",
      "\n",
      "[3 rows x 23 columns]\n"
     ]
    }
   ],
   "source": [
    "# Display a few random papers with all columns displayed\n",
    "print(\"\\nDisplaying a few random papers with all columns:\")\n",
    "random_papers = df.sample(3)\n",
    "print(random_papers)\n"
   ]
  },
  {
   "cell_type": "markdown",
   "id": "96ad86a0",
   "metadata": {},
   "source": [
    "---"
   ]
  },
  {
   "cell_type": "code",
   "execution_count": 18,
   "id": "5e383d31",
   "metadata": {},
   "outputs": [
    {
     "name": "stdout",
     "output_type": "stream",
     "text": [
      "Number of papers without keywords: 34581\n",
      "Number of papers with keywords: 99383\n"
     ]
    }
   ],
   "source": [
    "# 17. Count the papers without keywords\n",
    "num_no_keywords = df['keywords'].apply(lambda x: len(x) == 0).sum()\n",
    "print(f\"Number of papers without keywords: {num_no_keywords}\")\n",
    "num_with_keywords = df['keywords'].apply(lambda x: len(x) > 0).sum()\n",
    "print(f\"Number of papers with keywords: {num_with_keywords}\")"
   ]
  },
  {
   "cell_type": "markdown",
   "id": "f3573d07",
   "metadata": {},
   "source": [
    "## Data preparation"
   ]
  },
  {
   "cell_type": "markdown",
   "id": "aad38ca1",
   "metadata": {},
   "source": [
    "Removal of retracted papers"
   ]
  },
  {
   "cell_type": "code",
   "execution_count": 19,
   "id": "c831af9c",
   "metadata": {},
   "outputs": [
    {
     "name": "stdout",
     "output_type": "stream",
     "text": [
      "DataFrame shape before removing retracted papers: (133964, 23)\n",
      "DataFrame shape after removing retracted papers: (133945, 23)\n"
     ]
    }
   ],
   "source": [
    "print(f\"DataFrame shape before removing retracted papers: {df.shape}\")\n",
    "df = df[df['is_retracted'] == False]\n",
    "print(f\"DataFrame shape after removing retracted papers: {df.shape}\")"
   ]
  },
  {
   "cell_type": "markdown",
   "id": "66da911b",
   "metadata": {},
   "source": [
    "Removal of paratext works"
   ]
  },
  {
   "cell_type": "code",
   "execution_count": 20,
   "id": "b8807889",
   "metadata": {},
   "outputs": [
    {
     "name": "stdout",
     "output_type": "stream",
     "text": [
      "DataFrame shape before removing paratext works: (133945, 23)\n",
      "DataFrame shape after removing paratext works: (133628, 23)\n"
     ]
    }
   ],
   "source": [
    "print(f\"DataFrame shape before removing paratext works: {df.shape}\")\n",
    "df = df[df['is_paratext'] == False]\n",
    "print(f\"DataFrame shape after removing paratext works: {df.shape}\")"
   ]
  },
  {
   "cell_type": "code",
   "execution_count": 21,
   "id": "aa616525",
   "metadata": {},
   "outputs": [
    {
     "name": "stdout",
     "output_type": "stream",
     "text": [
      "DataFrame shape after dropping is_paratext and is_retracted columns: (133628, 21)\n"
     ]
    }
   ],
   "source": [
    "# Drop is_retracted and is_paratext columns\n",
    "df = df.drop(columns=['is_retracted', 'is_paratext'])\n",
    "print(f\"DataFrame shape after dropping is_paratext and is_retracted columns: {df.shape}\")"
   ]
  },
  {
   "cell_type": "code",
   "execution_count": 22,
   "id": "0b634806",
   "metadata": {},
   "outputs": [
    {
     "name": "stdout",
     "output_type": "stream",
     "text": [
      "                                                                                                                                                                                                                                                                                                                                                                                                                                                                                                                                                                                                                                                                                                                                                               primary_location                                                                                                                                                     open_access\n",
      "0                                                                 {'is_accepted': False, 'is_oa': False, 'is_published': False, 'landing_page_url': 'https://doi.org/10.1016/j.progpolymsci.2012.04.003', 'license': None, 'license_id': None, 'pdf_url': None, 'source': {'display_name': 'Progress in Polymer Science', 'host_organization': 'https://openalex.org/P4310320990', 'host_organization_lineage': ['https://openalex.org/P4310320990'], 'host_organization_lineage_names': ['Elsevier BV'], 'host_organization_name': 'Elsevier BV', 'id': 'https://openalex.org/S119685760', 'is_core': True, 'is_in_doaj': False, 'is_indexed_in_scopus': True, 'is_oa': False, 'issn': ['0079-6700', '1873-1619'], 'issn_l': '0079-6700', 'type': 'journal'}, 'version': None}                                                                   {'any_repository_has_fulltext': False, 'is_oa': False, 'oa_status': 'closed', 'oa_url': None}\n",
      "1  {'is_accepted': True, 'is_oa': True, 'is_published': True, 'landing_page_url': 'https://doi.org/10.1002/mame.201300008', 'license': None, 'license_id': None, 'pdf_url': 'https://onlinelibrary.wiley.com/doi/pdfdirect/10.1002/mame.201300008', 'source': {'display_name': 'Macromolecular Materials and Engineering', 'host_organization': 'https://openalex.org/P4310320595', 'host_organization_lineage': ['https://openalex.org/P4310320595'], 'host_organization_lineage_names': ['Wiley'], 'host_organization_name': 'Wiley', 'id': 'https://openalex.org/S24701761', 'is_core': True, 'is_in_doaj': True, 'is_indexed_in_scopus': True, 'is_oa': True, 'issn': ['1438-7492', '1439-2054'], 'issn_l': '1438-7492', 'type': 'journal'}, 'version': 'publishedVersion'}  {'any_repository_has_fulltext': False, 'is_oa': True, 'oa_status': 'bronze', 'oa_url': 'https://onlinelibrary.wiley.com/doi/pdfdirect/10.1002/mame.201300008'}\n",
      "2                                                                   {'is_accepted': True, 'is_oa': True, 'is_published': True, 'landing_page_url': 'https://doi.org/10.1111/1541-4337.12322', 'license': None, 'license_id': None, 'pdf_url': None, 'source': {'display_name': 'Comprehensive Reviews in Food Science and Food Safety', 'host_organization': 'https://openalex.org/P4310320595', 'host_organization_lineage': ['https://openalex.org/P4310320595'], 'host_organization_lineage_names': ['Wiley'], 'host_organization_name': 'Wiley', 'id': 'https://openalex.org/S336866', 'is_core': True, 'is_in_doaj': False, 'is_indexed_in_scopus': True, 'is_oa': False, 'issn': ['1541-4337'], 'issn_l': '1541-4337', 'type': 'journal'}, 'version': 'publishedVersion'}                                 {'any_repository_has_fulltext': True, 'is_oa': True, 'oa_status': 'green', 'oa_url': 'https://doi.org/10.1111/1541-4337.12322'}\n",
      "3                                                             {'is_accepted': False, 'is_oa': False, 'is_published': False, 'landing_page_url': 'https://doi.org/10.1016/j.seppur.2010.03.021', 'license': None, 'license_id': None, 'pdf_url': None, 'source': {'display_name': 'Separation and Purification Technology', 'host_organization': 'https://openalex.org/P4310320990', 'host_organization_lineage': ['https://openalex.org/P4310320990'], 'host_organization_lineage_names': ['Elsevier BV'], 'host_organization_name': 'Elsevier BV', 'id': 'https://openalex.org/S69753523', 'is_core': True, 'is_in_doaj': False, 'is_indexed_in_scopus': True, 'is_oa': False, 'issn': ['1383-5866', '1873-3794'], 'issn_l': '1383-5866', 'type': 'journal'}, 'version': None}                                                                   {'any_repository_has_fulltext': False, 'is_oa': False, 'oa_status': 'closed', 'oa_url': None}\n",
      "4                                              {'is_accepted': True, 'is_oa': True, 'is_published': True, 'landing_page_url': 'https://doi.org/10.1016/j.omega.2018.07.004', 'license': 'cc-by', 'license_id': 'https://openalex.org/licenses/cc-by', 'pdf_url': None, 'source': {'display_name': 'Omega', 'host_organization': 'https://openalex.org/P4310320990', 'host_organization_lineage': ['https://openalex.org/P4310320990'], 'host_organization_lineage_names': ['Elsevier BV'], 'host_organization_name': 'Elsevier BV', 'id': 'https://openalex.org/S4210190151', 'is_core': True, 'is_in_doaj': False, 'is_indexed_in_scopus': True, 'is_oa': False, 'issn': ['0305-0483', '1873-5274'], 'issn_l': '0305-0483', 'type': 'journal'}, 'version': 'publishedVersion'}                            {'any_repository_has_fulltext': True, 'is_oa': True, 'oa_status': 'hybrid', 'oa_url': 'https://doi.org/10.1016/j.omega.2018.07.004'}\n"
     ]
    }
   ],
   "source": [
    "print(df[['primary_location', 'open_access']].head(5).to_string())"
   ]
  },
  {
   "cell_type": "code",
   "execution_count": 23,
   "id": "d2caadb5",
   "metadata": {},
   "outputs": [
    {
     "name": "stdout",
     "output_type": "stream",
     "text": [
      "DataFrame shape after dropping primary_location: (133628, 20)\n"
     ]
    }
   ],
   "source": [
    "# Drop primary_location column\n",
    "df = df.drop(columns=['primary_location'])\n",
    "print(f\"DataFrame shape after dropping primary_location: {df.shape}\")"
   ]
  },
  {
   "cell_type": "code",
   "execution_count": 24,
   "id": "0dac30fe",
   "metadata": {},
   "outputs": [
    {
     "name": "stdout",
     "output_type": "stream",
     "text": [
      "                                                                                                                                                                                                                                                                                                                                                                                                           primary_topic                                                                                                                                                                                                                                                                                                                                                                                                                                                                                                                                                                                                                                                                                                                                                                                                                                                                                                                                                                                                                                                                                                                                                                                                                                                        topics\n",
      "0                     {'display_name': 'Natural Fiber Reinforced Composites', 'domain': {'display_name': 'Physical Sciences', 'id': 'https://openalex.org/domains/3'}, 'field': {'display_name': 'Materials Science', 'id': 'https://openalex.org/fields/25'}, 'id': 'https://openalex.org/T10513', 'score': 0.9997, 'subfield': {'display_name': 'Polymers and Plastics', 'id': 'https://openalex.org/subfields/2507'}}                          [{'display_name': 'Natural Fiber Reinforced Composites', 'domain': {'display_name': 'Physical Sciences', 'id': 'https://openalex.org/domains/3'}, 'field': {'display_name': 'Materials Science', 'id': 'https://openalex.org/fields/25'}, 'id': 'https://openalex.org/T10513', 'score': 0.9997, 'subfield': {'display_name': 'Polymers and Plastics', 'id': 'https://openalex.org/subfields/2507'}}, {'display_name': 'Additive Manufacturing and 3D Printing Technologies', 'domain': {'display_name': 'Physical Sciences', 'id': 'https://openalex.org/domains/3'}, 'field': {'display_name': 'Engineering', 'id': 'https://openalex.org/fields/22'}, 'id': 'https://openalex.org/T10783', 'score': 0.9638, 'subfield': {'display_name': 'Automotive Engineering', 'id': 'https://openalex.org/subfields/2203'}}, {'display_name': 'Innovations in Concrete and Construction Materials', 'domain': {'display_name': 'Physical Sciences', 'id': 'https://openalex.org/domains/3'}, 'field': {'display_name': 'Engineering', 'id': 'https://openalex.org/fields/22'}, 'id': 'https://openalex.org/T12190', 'score': 0.9429, 'subfield': {'display_name': 'Building and Construction', 'id': 'https://openalex.org/subfields/2215'}}]\n",
      "1                     {'display_name': 'Natural Fiber Reinforced Composites', 'domain': {'display_name': 'Physical Sciences', 'id': 'https://openalex.org/domains/3'}, 'field': {'display_name': 'Materials Science', 'id': 'https://openalex.org/fields/25'}, 'id': 'https://openalex.org/T10513', 'score': 0.9996, 'subfield': {'display_name': 'Polymers and Plastics', 'id': 'https://openalex.org/subfields/2507'}}                                                                 [{'display_name': 'Natural Fiber Reinforced Composites', 'domain': {'display_name': 'Physical Sciences', 'id': 'https://openalex.org/domains/3'}, 'field': {'display_name': 'Materials Science', 'id': 'https://openalex.org/fields/25'}, 'id': 'https://openalex.org/T10513', 'score': 0.9996, 'subfield': {'display_name': 'Polymers and Plastics', 'id': 'https://openalex.org/subfields/2507'}}, {'display_name': 'Advanced Cellulose Research Studies', 'domain': {'display_name': 'Physical Sciences', 'id': 'https://openalex.org/domains/3'}, 'field': {'display_name': 'Materials Science', 'id': 'https://openalex.org/fields/25'}, 'id': 'https://openalex.org/T10610', 'score': 0.968, 'subfield': {'display_name': 'Biomaterials', 'id': 'https://openalex.org/subfields/2502'}}, {'display_name': 'Fiber-reinforced polymer composites', 'domain': {'display_name': 'Physical Sciences', 'id': 'https://openalex.org/domains/3'}, 'field': {'display_name': 'Engineering', 'id': 'https://openalex.org/fields/22'}, 'id': 'https://openalex.org/T11664', 'score': 0.9524, 'subfield': {'display_name': 'Mechanical Engineering', 'id': 'https://openalex.org/subfields/2210'}}]\n",
      "2                           {'display_name': 'Nanocomposite Films for Food Packaging', 'domain': {'display_name': 'Physical Sciences', 'id': 'https://openalex.org/domains/3'}, 'field': {'display_name': 'Materials Science', 'id': 'https://openalex.org/fields/25'}, 'id': 'https://openalex.org/T10488', 'score': 0.9997, 'subfield': {'display_name': 'Biomaterials', 'id': 'https://openalex.org/subfields/2502'}}                                                [{'display_name': 'Nanocomposite Films for Food Packaging', 'domain': {'display_name': 'Physical Sciences', 'id': 'https://openalex.org/domains/3'}, 'field': {'display_name': 'Materials Science', 'id': 'https://openalex.org/fields/25'}, 'id': 'https://openalex.org/T10488', 'score': 0.9997, 'subfield': {'display_name': 'Biomaterials', 'id': 'https://openalex.org/subfields/2502'}}, {'display_name': 'Advanced Sensor and Energy Harvesting Materials', 'domain': {'display_name': 'Physical Sciences', 'id': 'https://openalex.org/domains/3'}, 'field': {'display_name': 'Engineering', 'id': 'https://openalex.org/fields/22'}, 'id': 'https://openalex.org/T10338', 'score': 0.9947, 'subfield': {'display_name': 'Biomedical Engineering', 'id': 'https://openalex.org/subfields/2204'}}, {'display_name': 'biodegradable polymer synthesis and properties', 'domain': {'display_name': 'Physical Sciences', 'id': 'https://openalex.org/domains/3'}, 'field': {'display_name': 'Materials Science', 'id': 'https://openalex.org/fields/25'}, 'id': 'https://openalex.org/T10661', 'score': 0.984, 'subfield': {'display_name': 'Biomaterials', 'id': 'https://openalex.org/subfields/2502'}}]\n",
      "3  {'display_name': 'Advanced Photocatalysis Techniques', 'domain': {'display_name': 'Physical Sciences', 'id': 'https://openalex.org/domains/3'}, 'field': {'display_name': 'Energy', 'id': 'https://openalex.org/fields/21'}, 'id': 'https://openalex.org/T10078', 'score': 0.9978, 'subfield': {'display_name': 'Renewable Energy, Sustainability and the Environment', 'id': 'https://openalex.org/subfields/2105'}}             [{'display_name': 'Advanced Photocatalysis Techniques', 'domain': {'display_name': 'Physical Sciences', 'id': 'https://openalex.org/domains/3'}, 'field': {'display_name': 'Energy', 'id': 'https://openalex.org/fields/21'}, 'id': 'https://openalex.org/T10078', 'score': 0.9978, 'subfield': {'display_name': 'Renewable Energy, Sustainability and the Environment', 'id': 'https://openalex.org/subfields/2105'}}, {'display_name': 'TiO2 Photocatalysis and Solar Cells', 'domain': {'display_name': 'Physical Sciences', 'id': 'https://openalex.org/domains/3'}, 'field': {'display_name': 'Energy', 'id': 'https://openalex.org/fields/21'}, 'id': 'https://openalex.org/T10024', 'score': 0.9962, 'subfield': {'display_name': 'Renewable Energy, Sustainability and the Environment', 'id': 'https://openalex.org/subfields/2105'}}, {'display_name': 'Advanced Nanomaterials in Catalysis', 'domain': {'display_name': 'Physical Sciences', 'id': 'https://openalex.org/domains/3'}, 'field': {'display_name': 'Materials Science', 'id': 'https://openalex.org/fields/25'}, 'id': 'https://openalex.org/T12302', 'score': 0.9752, 'subfield': {'display_name': 'Materials Chemistry', 'id': 'https://openalex.org/subfields/2505'}}]\n",
      "4       {'display_name': 'Multi-Criteria Decision Making', 'domain': {'display_name': 'Social Sciences', 'id': 'https://openalex.org/domains/2'}, 'field': {'display_name': 'Decision Sciences', 'id': 'https://openalex.org/fields/18'}, 'id': 'https://openalex.org/T10050', 'score': 0.9994, 'subfield': {'display_name': 'Management Science and Operations Research', 'id': 'https://openalex.org/subfields/1803'}}  [{'display_name': 'Multi-Criteria Decision Making', 'domain': {'display_name': 'Social Sciences', 'id': 'https://openalex.org/domains/2'}, 'field': {'display_name': 'Decision Sciences', 'id': 'https://openalex.org/fields/18'}, 'id': 'https://openalex.org/T10050', 'score': 0.9994, 'subfield': {'display_name': 'Management Science and Operations Research', 'id': 'https://openalex.org/subfields/1803'}}, {'display_name': 'Soil and Land Suitability Analysis', 'domain': {'display_name': 'Physical Sciences', 'id': 'https://openalex.org/domains/3'}, 'field': {'display_name': 'Environmental Science', 'id': 'https://openalex.org/fields/23'}, 'id': 'https://openalex.org/T13058', 'score': 0.9288, 'subfield': {'display_name': 'Management, Monitoring, Policy and Law', 'id': 'https://openalex.org/subfields/2308'}}, {'display_name': 'Water Quality and Pollution Assessment', 'domain': {'display_name': 'Physical Sciences', 'id': 'https://openalex.org/domains/3'}, 'field': {'display_name': 'Environmental Science', 'id': 'https://openalex.org/fields/23'}, 'id': 'https://openalex.org/T11634', 'score': 0.9091, 'subfield': {'display_name': 'Water Science and Technology', 'id': 'https://openalex.org/subfields/2312'}}]\n"
     ]
    }
   ],
   "source": [
    "print(df[['primary_topic', 'topics']].head(5).to_string())"
   ]
  },
  {
   "cell_type": "code",
   "execution_count": 29,
   "id": "59bf06af",
   "metadata": {},
   "outputs": [
    {
     "name": "stdout",
     "output_type": "stream",
     "text": [
      "None\n"
     ]
    }
   ],
   "source": [
    "df.sample(1).to_csv('example_row.txt', sep='\\t', index=False)"
   ]
  },
  {
   "cell_type": "code",
   "execution_count": 31,
   "id": "c6d46134",
   "metadata": {},
   "outputs": [
    {
     "name": "stdout",
     "output_type": "stream",
     "text": [
      "                        openalex_id                                                                                                                                                                                                                                                                                                                                                                                                                                                                                                                                                                                                keywords\n",
      "0  https://openalex.org/W2059474375                                                                                                                                                                                                                                                                       [{'display_name': 'Biocomposite', 'id': 'https://openalex.org/keywords/biocomposite', 'score': 0.915007}, {'display_name': 'Petrochemical', 'id': 'https://openalex.org/keywords/petrochemical', 'score': 0.6879302}, {'display_name': 'Natural fiber', 'id': 'https://openalex.org/keywords/natural-fiber', 'score': 0.6635361}]\n",
      "1  https://openalex.org/W2096769811  [{'display_name': 'Petrochemical', 'id': 'https://openalex.org/keywords/petrochemical', 'score': 0.75433135}, {'display_name': 'Natural fiber', 'id': 'https://openalex.org/keywords/natural-fiber', 'score': 0.66406775}, {'display_name': 'Renewable resource', 'id': 'https://openalex.org/keywords/renewable-resource', 'score': 0.5834066}, {'display_name': 'Synthetic fiber', 'id': 'https://openalex.org/keywords/synthetic-fiber', 'score': 0.4727403}, {'display_name': 'Fiber-reinforced composite', 'id': 'https://openalex.org/keywords/fiber-reinforced-composite', 'score': 0.4160708}]\n",
      "2  https://openalex.org/W2769188897                                                                                                                                                      [{'display_name': 'Active packaging', 'id': 'https://openalex.org/keywords/active-packaging', 'score': 0.7750137}, {'display_name': 'Emerging Technologies', 'id': 'https://openalex.org/keywords/emerging-technologies', 'score': 0.55500233}, {'display_name': 'Novel food', 'id': 'https://openalex.org/keywords/novel-food', 'score': 0.52587223}, {'display_name': 'SAFER', 'id': 'https://openalex.org/keywords/safer', 'score': 0.5046774}]\n"
     ]
    }
   ],
   "source": [
    "print(df[['openalex_id','keywords']].head(3).to_string())"
   ]
  },
  {
   "cell_type": "markdown",
   "id": "4cd8252f",
   "metadata": {},
   "source": [
    "Save back to a parquet file"
   ]
  },
  {
   "cell_type": "code",
   "execution_count": 30,
   "id": "ce43b6ae",
   "metadata": {},
   "outputs": [
    {
     "name": "stdout",
     "output_type": "stream",
     "text": [
      "Successfully saved data for 133628 papers to papers_clean2.parquet\n"
     ]
    }
   ],
   "source": [
    "parquet_file_path = 'papers_clean2.parquet'\n",
    "\n",
    "try:\n",
    "    # Save the DataFrame to a Parquet file\n",
    "    # `index=False` prevents writing the DataFrame index as a column\n",
    "    df.to_parquet(parquet_file_path, index=False, engine='pyarrow')\n",
    "    print(\n",
    "        f\"Successfully saved data for {len(df)} papers to {parquet_file_path}\")\n",
    "\n",
    "except Exception as e:\n",
    "    print(f\"Error saving data to Parquet: {e}\")"
   ]
  },
  {
   "cell_type": "code",
   "execution_count": null,
   "id": "e13e441a",
   "metadata": {},
   "outputs": [],
   "source": []
  }
 ],
 "metadata": {
  "kernelspec": {
   "display_name": "open_env",
   "language": "python",
   "name": "python3"
  },
  "language_info": {
   "codemirror_mode": {
    "name": "ipython",
    "version": 3
   },
   "file_extension": ".py",
   "mimetype": "text/x-python",
   "name": "python",
   "nbconvert_exporter": "python",
   "pygments_lexer": "ipython3",
   "version": "3.12.2"
  }
 },
 "nbformat": 4,
 "nbformat_minor": 5
}
