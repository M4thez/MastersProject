{
 "cells": [
  {
   "cell_type": "code",
   "execution_count": 1,
   "id": "53c213ea",
   "metadata": {},
   "outputs": [],
   "source": [
    "from pyalex import config, Works, Authors, Sources, Institutions, Topics, Publishers, Funders\n",
    "import helpers"
   ]
  },
  {
   "cell_type": "code",
   "execution_count": 2,
   "id": "f698cdc8",
   "metadata": {},
   "outputs": [],
   "source": [
    "# Email Configuration for the polite pool\n",
    "config.email = \"namemat@gmail.com\""
   ]
  },
  {
   "cell_type": "code",
   "execution_count": 3,
   "id": "67655c34",
   "metadata": {},
   "outputs": [],
   "source": [
    "# Configuration for retrying requests\n",
    "config.max_retries = 3\n",
    "config.retry_backoff_factor = 0.5  # delay between two retries\n",
    "config.retry_https_codes = [429, 500, 503]"
   ]
  },
  {
   "cell_type": "code",
   "execution_count": 4,
   "id": "42edc02e",
   "metadata": {},
   "outputs": [
    {
     "name": "stdout",
     "output_type": "stream",
     "text": [
      "{'PL_ZUT': '0596m7f19', 'BG_BFU': '02ek1bx64', 'GR_UOP': '017wvtq80', 'HR_UNIDU': '05yptqp13', 'SL_EMUNI': '03761pf32', 'IT_UNISS': '01bnjbv91', 'FR_UAG': '02ryfmr77', 'PT_UAC': '04276xd64', 'ES_UIB': '03e10x626', 'FR_ULHN': '05v509s40', 'FO_UF': '05mwmd090', 'DE_HOCHSTRALSUND': '04g99jx54', 'FI_AUAS': '05mknbx32'}\n"
     ]
    }
   ],
   "source": [
    "universities_ror_url = {\n",
    "    # West Pomeranian University of Technology in Szczecin\n",
    "    'PL_ZUT': 'https://ror.org/0596m7f19',\n",
    "    # Burgas Free University\n",
    "    'BG_BFU': 'https://ror.org/02ek1bx64',\n",
    "    # University of Patras\n",
    "    'GR_UOP': 'https://ror.org/017wvtq80',\n",
    "    # University of Dubrovnik\n",
    "    'HR_UNIDU': 'https://ror.org/05yptqp13',\n",
    "    # University EMUNI\n",
    "    'SL_EMUNI': 'https://ror.org/03761pf32',\n",
    "    # University of Sassari\n",
    "    'IT_UNISS': 'https://ror.org/01bnjbv91',\n",
    "    # University of the Antilles\n",
    "    'FR_UAG': 'https://ror.org/02ryfmr77',\n",
    "    # University of the Azores\n",
    "    'PT_UAC': 'https://ror.org/04276xd64',\n",
    "    # University of the Balearic Islands\n",
    "    'ES_UIB': 'https://ror.org/03e10x626',\n",
    "    # University Le Havre Normandie\n",
    "    'FR_ULHN': 'https://ror.org/05v509s40',\n",
    "    # University of the Faroe Islands\n",
    "    'FO_UF': 'https://ror.org/05mwmd090',\n",
    "    # Stralsund University of Applied Sciences\n",
    "    'DE_HOCHSTRALSUND': 'https://ror.org/04g99jx54',\n",
    "    # Åland University of Applied Sciences\n",
    "    'FI_AUAS': 'https://ror.org/05mknbx32',\n",
    "}\n",
    "\n",
    "universities_ror_id = {}\n",
    "for key in universities_ror_url:\n",
    "    universities_ror_id[key] = helpers.extract_id_from_url(universities_ror_url[key])\n",
    "\n",
    "print(universities_ror_id)"
   ]
  },
  {
   "cell_type": "code",
   "execution_count": 5,
   "id": "4718d3d3",
   "metadata": {},
   "outputs": [],
   "source": [
    "# NEEDS FIX as it's only getting the first page of results\n",
    "def get_works_by_universities(ror_dict):\n",
    "    result = {}\n",
    "    for key in ror_dict:\n",
    "        result[key] = Works().filter(authorships={\"institutions\": {\n",
    "            \"ror\": ror_dict[key]}}).get()\n",
    "    return result\n",
    "\n",
    "res = get_works_by_universities(universities_ror_id)"
   ]
  },
  {
   "cell_type": "code",
   "execution_count": 6,
   "id": "ff94985d",
   "metadata": {},
   "outputs": [],
   "source": [
    "# helpers.make_json_pretty(res)"
   ]
  },
  {
   "cell_type": "code",
   "execution_count": 7,
   "id": "b53496f8",
   "metadata": {},
   "outputs": [
    {
     "name": "stdout",
     "output_type": "stream",
     "text": [
      "PL_ZUT: 25\n",
      "BG_BFU: 25\n",
      "GR_UOP: 25\n",
      "HR_UNIDU: 25\n",
      "SL_EMUNI: 25\n",
      "IT_UNISS: 25\n",
      "FR_UAG: 25\n",
      "PT_UAC: 25\n",
      "ES_UIB: 25\n",
      "FR_ULHN: 25\n",
      "FO_UF: 25\n",
      "DE_HOCHSTRALSUND: 25\n",
      "FI_AUAS: 25\n",
      "Total: 325\n"
     ]
    }
   ],
   "source": [
    "len(res)\n",
    "sum = 0\n",
    "for key in res:\n",
    "    sum += len(res[key])\n",
    "    print(f'{key}: {len(res[key])}')\n",
    "print(f'Total: {sum}')"
   ]
  },
  {
   "cell_type": "code",
   "execution_count": 8,
   "id": "5c3e1a45",
   "metadata": {},
   "outputs": [],
   "source": [
    "# def get_works_by_universities(ror_dict):\n",
    "#     result = {}\n",
    "#     pager = Works().filter(authorships={\"institutions\": {\"ror\": ror_dict['PL_ZUT']}}).paginate(per_page=100)\n",
    "#     for page in pager:\n",
    "#         if 'PL_ZUT' in result:\n",
    "#             result['PL_ZUT'].extend(page)\n",
    "#         else:\n",
    "#             result['PL_ZUT'] = page\n",
    "#     return result\n",
    "\n",
    "# PL_ZUT = get_works_by_universities(universities_ror_id)\n",
    "# print(len(PL_ZUT['PL_ZUT']))"
   ]
  },
  {
   "cell_type": "code",
   "execution_count": 11,
   "id": "4c0e8fc2",
   "metadata": {},
   "outputs": [
    {
     "ename": "RecursionError",
     "evalue": "maximum recursion depth exceeded",
     "output_type": "error",
     "traceback": [
      "\u001b[31m---------------------------------------------------------------------------\u001b[39m",
      "\u001b[31mRecursionError\u001b[39m                            Traceback (most recent call last)",
      "\u001b[36mCell\u001b[39m\u001b[36m \u001b[39m\u001b[32mIn[11]\u001b[39m\u001b[32m, line 6\u001b[39m\n\u001b[32m      4\u001b[39m \u001b[38;5;66;03m# try:\u001b[39;00m\n\u001b[32m      5\u001b[39m query = Works().filter(authorships={\u001b[33m\"\u001b[39m\u001b[33minstitutions\u001b[39m\u001b[33m\"\u001b[39m: {\u001b[33m\"\u001b[39m\u001b[33mror\u001b[39m\u001b[33m\"\u001b[39m: universities_ror_id[\u001b[33m'\u001b[39m\u001b[33mPL_ZUT\u001b[39m\u001b[33m'\u001b[39m]}})\n\u001b[32m----> \u001b[39m\u001b[32m6\u001b[39m \u001b[38;5;28;01mfor\u001b[39;00m work \u001b[38;5;129;01min\u001b[39;00m \u001b[43mquery\u001b[49m\u001b[43m.\u001b[49m\u001b[43miterator\u001b[49m():  \u001b[38;5;66;03m# Use iterator() for memory efficiency\u001b[39;00m\n\u001b[32m      7\u001b[39m     processed_count += \u001b[32m1\u001b[39m\n\u001b[32m      8\u001b[39m     all_works.append(work)\n",
      "\u001b[36mFile \u001b[39m\u001b[32mc:\\Users\\namem\\Documents\\_Zadania_ZUT\\Magisterka\\MastersProject\\open_env\\Lib\\site-packages\\pyalex\\api.py:278\u001b[39m, in \u001b[36mBaseOpenAlex.__getattr__\u001b[39m\u001b[34m(self, key)\u001b[39m\n\u001b[32m    272\u001b[39m \u001b[38;5;28;01mif\u001b[39;00m key == \u001b[33m\"\u001b[39m\u001b[33mfilter_search\u001b[39m\u001b[33m\"\u001b[39m:\n\u001b[32m    273\u001b[39m     \u001b[38;5;28;01mraise\u001b[39;00m \u001b[38;5;167;01mAttributeError\u001b[39;00m(\n\u001b[32m    274\u001b[39m         \u001b[33m\"\u001b[39m\u001b[33mObject has no attribute \u001b[39m\u001b[33m'\u001b[39m\u001b[33mfilter_search\u001b[39m\u001b[33m'\u001b[39m\u001b[33m. \u001b[39m\u001b[33m\"\u001b[39m\n\u001b[32m    275\u001b[39m         \u001b[33m\"\u001b[39m\u001b[33mDid you mean \u001b[39m\u001b[33m'\u001b[39m\u001b[33msearch_filter\u001b[39m\u001b[33m'\u001b[39m\u001b[33m?\u001b[39m\u001b[33m\"\u001b[39m\n\u001b[32m    276\u001b[39m     )\n\u001b[32m--> \u001b[39m\u001b[32m278\u001b[39m \u001b[38;5;28;01mreturn\u001b[39;00m \u001b[38;5;28;43mgetattr\u001b[39;49m\u001b[43m(\u001b[49m\u001b[38;5;28;43mself\u001b[39;49m\u001b[43m,\u001b[49m\u001b[43m \u001b[49m\u001b[43mkey\u001b[49m\u001b[43m)\u001b[49m\n",
      "\u001b[36mFile \u001b[39m\u001b[32mc:\\Users\\namem\\Documents\\_Zadania_ZUT\\Magisterka\\MastersProject\\open_env\\Lib\\site-packages\\pyalex\\api.py:278\u001b[39m, in \u001b[36mBaseOpenAlex.__getattr__\u001b[39m\u001b[34m(self, key)\u001b[39m\n\u001b[32m    272\u001b[39m \u001b[38;5;28;01mif\u001b[39;00m key == \u001b[33m\"\u001b[39m\u001b[33mfilter_search\u001b[39m\u001b[33m\"\u001b[39m:\n\u001b[32m    273\u001b[39m     \u001b[38;5;28;01mraise\u001b[39;00m \u001b[38;5;167;01mAttributeError\u001b[39;00m(\n\u001b[32m    274\u001b[39m         \u001b[33m\"\u001b[39m\u001b[33mObject has no attribute \u001b[39m\u001b[33m'\u001b[39m\u001b[33mfilter_search\u001b[39m\u001b[33m'\u001b[39m\u001b[33m. \u001b[39m\u001b[33m\"\u001b[39m\n\u001b[32m    275\u001b[39m         \u001b[33m\"\u001b[39m\u001b[33mDid you mean \u001b[39m\u001b[33m'\u001b[39m\u001b[33msearch_filter\u001b[39m\u001b[33m'\u001b[39m\u001b[33m?\u001b[39m\u001b[33m\"\u001b[39m\n\u001b[32m    276\u001b[39m     )\n\u001b[32m--> \u001b[39m\u001b[32m278\u001b[39m \u001b[38;5;28;01mreturn\u001b[39;00m \u001b[38;5;28;43mgetattr\u001b[39;49m\u001b[43m(\u001b[49m\u001b[38;5;28;43mself\u001b[39;49m\u001b[43m,\u001b[49m\u001b[43m \u001b[49m\u001b[43mkey\u001b[49m\u001b[43m)\u001b[49m\n",
      "    \u001b[31m[... skipping similar frames: BaseOpenAlex.__getattr__ at line 278 (739 times)]\u001b[39m\n",
      "\u001b[36mFile \u001b[39m\u001b[32mc:\\Users\\namem\\Documents\\_Zadania_ZUT\\Magisterka\\MastersProject\\open_env\\Lib\\site-packages\\pyalex\\api.py:278\u001b[39m, in \u001b[36mBaseOpenAlex.__getattr__\u001b[39m\u001b[34m(self, key)\u001b[39m\n\u001b[32m    272\u001b[39m \u001b[38;5;28;01mif\u001b[39;00m key == \u001b[33m\"\u001b[39m\u001b[33mfilter_search\u001b[39m\u001b[33m\"\u001b[39m:\n\u001b[32m    273\u001b[39m     \u001b[38;5;28;01mraise\u001b[39;00m \u001b[38;5;167;01mAttributeError\u001b[39;00m(\n\u001b[32m    274\u001b[39m         \u001b[33m\"\u001b[39m\u001b[33mObject has no attribute \u001b[39m\u001b[33m'\u001b[39m\u001b[33mfilter_search\u001b[39m\u001b[33m'\u001b[39m\u001b[33m. \u001b[39m\u001b[33m\"\u001b[39m\n\u001b[32m    275\u001b[39m         \u001b[33m\"\u001b[39m\u001b[33mDid you mean \u001b[39m\u001b[33m'\u001b[39m\u001b[33msearch_filter\u001b[39m\u001b[33m'\u001b[39m\u001b[33m?\u001b[39m\u001b[33m\"\u001b[39m\n\u001b[32m    276\u001b[39m     )\n\u001b[32m--> \u001b[39m\u001b[32m278\u001b[39m \u001b[38;5;28;01mreturn\u001b[39;00m \u001b[38;5;28;43mgetattr\u001b[39;49m\u001b[43m(\u001b[49m\u001b[38;5;28;43mself\u001b[39;49m\u001b[43m,\u001b[49m\u001b[43m \u001b[49m\u001b[43mkey\u001b[49m\u001b[43m)\u001b[49m\n",
      "\u001b[31mRecursionError\u001b[39m: maximum recursion depth exceeded"
     ]
    }
   ],
   "source": [
    "all_works = []\n",
    "error_count = 0\n",
    "processed_count = 0\n",
    "# try:\n",
    "query = Works().filter(authorships={\"institutions\": {\"ror\": universities_ror_id['PL_ZUT']}})\n",
    "for work in query.iterator():  # Use iterator() for memory efficiency\n",
    "    processed_count += 1\n",
    "    all_works.append(work)\n",
    "    if processed_count % 500 == 0:  # Print progress periodically\n",
    "        print(f\"  Processed {processed_count} works...\")\n",
    "\n",
    "# except Exception as e:\n",
    "#     print(f\"\\n--- An error occurred ---\")\n",
    "#     print(f\"Error type: {type(e).__name__}\")\n",
    "#     print(f\"Error details: {e}\")\n",
    "#     print(f\"Processed {processed_count} works before the error.\")\n",
    "#     error_count += 1\n",
    "#     # Depending on the error, you might want to implement retry logic here\n",
    "\n",
    "print(f\"\\n--- Query Finished ---\")\n",
    "if error_count == 0:\n",
    "    print(\n",
    "        f\"Successfully retrieved {len(all_works)} works for ROR PL_ZUT.\")\n",
    "else:\n",
    "    print(f\"Retrieved {len(all_works)} works before encountering an error.\")\n",
    "\n",
    "# --- Optional: Print some details of the first few works ---\n",
    "if all_works:\n",
    "    print(\"\\n--- Sample Works (First 5) ---\")\n",
    "    for i, work in enumerate(all_works[:5]):\n",
    "        work_id = work.get('id')\n",
    "        title = work.get('title', 'N/A')\n",
    "        doi = work.get('doi', 'N/A')\n",
    "        pub_year = work.get('publication_year', 'N/A')\n",
    "        print(f\"{i+1}. ID: {work_id}\")\n",
    "        print(f\"   Title: {title}\")\n",
    "        print(f\"   DOI: {doi}\")\n",
    "        print(f\"   Year: {pub_year}\")\n",
    "        print(\"-\" * 10)\n",
    "else:\n",
    "    print(\"No works found or an error prevented retrieval.\")"
   ]
  }
 ],
 "metadata": {
  "kernelspec": {
   "display_name": "open_env",
   "language": "python",
   "name": "python3"
  },
  "language_info": {
   "codemirror_mode": {
    "name": "ipython",
    "version": 3
   },
   "file_extension": ".py",
   "mimetype": "text/x-python",
   "name": "python",
   "nbconvert_exporter": "python",
   "pygments_lexer": "ipython3",
   "version": "3.12.2"
  }
 },
 "nbformat": 4,
 "nbformat_minor": 5
}
