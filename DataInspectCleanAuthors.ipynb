{
 "cells": [
  {
   "cell_type": "markdown",
   "id": "6c4d73bf",
   "metadata": {},
   "source": [
    "# Data clean up from the parquet file"
   ]
  },
  {
   "cell_type": "code",
   "execution_count": 16,
   "id": "d20471be",
   "metadata": {},
   "outputs": [],
   "source": [
    "import pandas as pd\n",
    "import sys  # To exit gracefully on error"
   ]
  },
  {
   "cell_type": "code",
   "execution_count": 17,
   "id": "1eae735f",
   "metadata": {},
   "outputs": [],
   "source": [
    "# --- Configuration ---\n",
    "# Set the path to the Parquet file\n",
    "# Update this path as needed\n",
    "PARQUET_FILE_PATH = 'authors_raw_data.parquet'"
   ]
  },
  {
   "cell_type": "code",
   "execution_count": 18,
   "id": "2c1c4911",
   "metadata": {},
   "outputs": [
    {
     "name": "stdout",
     "output_type": "stream",
     "text": [
      "Attempting to read Parquet file: authors_raw_data.parquet\n",
      "Successfully loaded Parquet file into DataFrame.\n"
     ]
    }
   ],
   "source": [
    "# --- Read the Parquet File ---\n",
    "print(f\"Attempting to read Parquet file: {PARQUET_FILE_PATH}\")\n",
    "try:\n",
    "    # Use pandas read_parquet function\n",
    "    # Specify the engine if needed (usually auto-detected, but 'pyarrow' is explicit)\n",
    "    df = pd.read_parquet(PARQUET_FILE_PATH, engine='pyarrow')\n",
    "    print(\"Successfully loaded Parquet file into DataFrame.\")\n",
    "\n",
    "except FileNotFoundError:\n",
    "    print(f\"Error: File not found at '{PARQUET_FILE_PATH}'\")\n",
    "    print(\"Please ensure the file exists and the path is correct.\")\n",
    "    sys.exit(1)  # Exit the script with an error code\n",
    "except ImportError:\n",
    "    print(\"Error: Missing dependency. Please install pandas and pyarrow:\")\n",
    "    print(\"pip install pandas pyarrow\")\n",
    "    sys.exit(1)\n",
    "except Exception as e:\n",
    "    print(f\"An unexpected error occurred while reading the file: {e}\")\n",
    "    sys.exit(1)"
   ]
  },
  {
   "cell_type": "code",
   "execution_count": 19,
   "id": "efd6cc5e",
   "metadata": {},
   "outputs": [
    {
     "name": "stdout",
     "output_type": "stream",
     "text": [
      "\n",
      "--- DataFrame Inspection ---\n",
      "\n",
      "1. Shape (rows, columns): (44381, 16)\n"
     ]
    }
   ],
   "source": [
    "# --- Inspect the DataFrame ---\n",
    "print(\"\\n--- DataFrame Inspection ---\")\n",
    "# 1. Dimensions (Rows, Columns)\n",
    "print(f\"\\n1. Shape (rows, columns): {df.shape}\")"
   ]
  },
  {
   "cell_type": "code",
   "execution_count": 20,
   "id": "897649f6",
   "metadata": {},
   "outputs": [
    {
     "name": "stdout",
     "output_type": "stream",
     "text": [
      "\n",
      "2. First 5 rows (head):\n",
      "                                 id  \\\n",
      "0  https://openalex.org/A5010715704   \n",
      "1  https://openalex.org/A5060085599   \n",
      "2  https://openalex.org/A5094077737   \n",
      "3  https://openalex.org/A5108452435   \n",
      "4  https://openalex.org/A5077470111   \n",
      "\n",
      "                                                 ids       display_name  \\\n",
      "0  {'openalex': 'https://openalex.org/A5010715704...  Оleg G. Sinyashin   \n",
      "1  {'openalex': 'https://openalex.org/A5060085599...      А. Р. Бурилов   \n",
      "2  {'openalex': 'https://openalex.org/A5094077737...         Klaus Gräf   \n",
      "3  {'openalex': 'https://openalex.org/A5108452435...        J Zieliński   \n",
      "4  {'openalex': 'https://openalex.org/A5077470111...           N. Wrage   \n",
      "\n",
      "                           display_name_alternatives  \\\n",
      "0  [O. G. Sinyashin, Oleg Gerol'dovich Sinyashin,...   \n",
      "1  [A. R. Burilov, Аlexander R. Burilov, А. Р. Бу...   \n",
      "2  [G. Gogola ́k, Klaus Gräf, Graf K, K. Graf, Kl...   \n",
      "3  [Jan Zieliński, J. Zieliński, J Zielínski, J Z...   \n",
      "4  [N. Wrage‐Moennig, Nicole Wrage‐Moennig, Nicol...   \n",
      "\n",
      "                                        affiliations  cited_by_count  \\\n",
      "0  [{'institution': {'country_code': 'RU', 'displ...            8358   \n",
      "1  [{'institution': {'country_code': 'RU', 'displ...            2281   \n",
      "2  [{'institution': {'country_code': 'CH', 'displ...            1146   \n",
      "3  [{'institution': {'country_code': 'PL', 'displ...           11041   \n",
      "4  [{'institution': {'country_code': 'DE', 'displ...            9132   \n",
      "\n",
      "                             last_known_institutions  \\\n",
      "0  [{'country_code': 'RU', 'display_name': 'A.E. ...   \n",
      "1  [{'country_code': 'RU', 'display_name': 'A.E. ...   \n",
      "2  [{'country_code': 'DE', 'display_name': 'RWTH ...   \n",
      "3  [{'country_code': 'SE', 'display_name': 'Sahlg...   \n",
      "4  [{'country_code': 'DE', 'display_name': 'Unive...   \n",
      "\n",
      "                                   orcid  \\\n",
      "0  https://orcid.org/0000-0002-2241-9764   \n",
      "1  https://orcid.org/0000-0003-2938-7352   \n",
      "2  https://orcid.org/0000-0002-5834-4987   \n",
      "3                                   None   \n",
      "4  https://orcid.org/0000-0002-3319-5655   \n",
      "\n",
      "                                       summary_stats  works_count  \\\n",
      "0  {'2yr_mean_citedness': 1.783132530120482, 'h_i...         1141   \n",
      "1  {'2yr_mean_citedness': 0.4948453608247423, 'h_...          743   \n",
      "2  {'2yr_mean_citedness': 0.0, 'h_index': 17, 'i1...          509   \n",
      "3  {'2yr_mean_citedness': 0.0, 'h_index': 43, 'i1...          459   \n",
      "4  {'2yr_mean_citedness': 4.333333333333333, 'h_i...          416   \n",
      "\n",
      "                                      counts_by_year concepts created_date  \\\n",
      "0  [{'cited_by_count': 261, 'works_count': 11, 'y...       []   2023-07-21   \n",
      "1  [{'cited_by_count': 55, 'works_count': 1, 'yea...       []   2023-07-21   \n",
      "2  [{'cited_by_count': 6, 'works_count': 0, 'year...       []   2024-03-07   \n",
      "3  [{'cited_by_count': 56, 'works_count': 0, 'yea...       []   2024-10-12   \n",
      "4  [{'cited_by_count': 321, 'works_count': 4, 'ye...       []   2023-07-21   \n",
      "\n",
      "                 updated_date  \\\n",
      "0  2025-05-11T21:09:27.809698   \n",
      "1  2025-05-11T13:23:04.473066   \n",
      "2  2025-05-13T04:03:22.352855   \n",
      "3  2025-05-09T18:26:27.008061   \n",
      "4  2025-05-11T08:31:59.673343   \n",
      "\n",
      "                                          x_concepts university_key  \n",
      "0  [{'display_name': 'Chemistry', 'id': 'https://...         PL_ZUT  \n",
      "1  [{'display_name': 'Chemistry', 'id': 'https://...         PL_ZUT  \n",
      "2  [{'display_name': 'Philosophy', 'id': 'https:/...         PL_ZUT  \n",
      "3  [{'display_name': 'Medicine', 'id': 'https://o...         PL_ZUT  \n",
      "4  [{'display_name': 'Biology', 'id': 'https://op...         PL_ZUT  \n"
     ]
    }
   ],
   "source": [
    "# 2. First 5 Rows\n",
    "print(\"\\n2. First 5 rows (head):\")\n",
    "# pd.set_option('display.max_columns', None) # Uncomment to show all columns if wide\n",
    "print(df.head())\n",
    "# pd.reset_option('display.max_columns') # Uncomment to reset display option"
   ]
  },
  {
   "cell_type": "code",
   "execution_count": 21,
   "id": "48ae4b10",
   "metadata": {},
   "outputs": [
    {
     "name": "stdout",
     "output_type": "stream",
     "text": [
      "\n",
      "3. Column names:\n",
      "['id', 'ids', 'display_name', 'display_name_alternatives', 'affiliations', 'cited_by_count', 'last_known_institutions', 'orcid', 'summary_stats', 'works_count', 'counts_by_year', 'concepts', 'created_date', 'updated_date', 'x_concepts', 'university_key']\n"
     ]
    }
   ],
   "source": [
    "# 3. Column Names\n",
    "print(\"\\n3. Column names:\")\n",
    "print(list(df.columns))"
   ]
  },
  {
   "cell_type": "code",
   "execution_count": 22,
   "id": "580a117c",
   "metadata": {},
   "outputs": [
    {
     "name": "stdout",
     "output_type": "stream",
     "text": [
      "\n",
      "4. Data types and non-null info:\n",
      "<class 'pandas.core.frame.DataFrame'>\n",
      "RangeIndex: 44381 entries, 0 to 44380\n",
      "Data columns (total 16 columns):\n",
      " #   Column                     Non-Null Count  Dtype \n",
      "---  ------                     --------------  ----- \n",
      " 0   id                         44381 non-null  object\n",
      " 1   ids                        44381 non-null  object\n",
      " 2   display_name               44381 non-null  object\n",
      " 3   display_name_alternatives  44381 non-null  object\n",
      " 4   affiliations               44381 non-null  object\n",
      " 5   cited_by_count             44381 non-null  int64 \n",
      " 6   last_known_institutions    44381 non-null  object\n",
      " 7   orcid                      15185 non-null  object\n",
      " 8   summary_stats              44381 non-null  object\n",
      " 9   works_count                44381 non-null  int64 \n",
      " 10  counts_by_year             44381 non-null  object\n",
      " 11  concepts                   44381 non-null  object\n",
      " 12  created_date               44381 non-null  object\n",
      " 13  updated_date               44381 non-null  object\n",
      " 14  x_concepts                 44381 non-null  object\n",
      " 15  university_key             44381 non-null  object\n",
      "dtypes: int64(2), object(14)\n",
      "memory usage: 5.4+ MB\n"
     ]
    }
   ],
   "source": [
    "# 4. Data Types and Non-Null Counts\n",
    "print(\"\\n4. Data types and non-null info:\")\n",
    "# This is very useful to see if data types were inferred correctly and find missing values\n",
    "df.info(verbose=True, show_counts=True)"
   ]
  },
  {
   "cell_type": "code",
   "execution_count": 23,
   "id": "6fc5646f",
   "metadata": {},
   "outputs": [
    {
     "name": "stdout",
     "output_type": "stream",
     "text": [
      "\n",
      "5. Summary statistics (numerical columns):\n",
      "       cited_by_count   works_count\n",
      "count    44381.000000  44381.000000\n",
      "mean       734.276627     35.071337\n",
      "std       2943.364003     80.553636\n",
      "min          0.000000      0.000000\n",
      "25%          6.000000      2.000000\n",
      "50%         56.000000      8.000000\n",
      "75%        399.000000     35.000000\n",
      "max     126565.000000   3113.000000\n"
     ]
    }
   ],
   "source": [
    "# 5. Summary Statistics (for numerical columns)\n",
    "print(\"\\n5. Summary statistics (numerical columns):\")\n",
    "# Includes count, mean, std, min, max, percentiles\n",
    "# Use .describe(include='all') to include stats for object/string columns too\n",
    "print(df.describe())"
   ]
  },
  {
   "cell_type": "code",
   "execution_count": 24,
   "id": "fcaaee0e",
   "metadata": {},
   "outputs": [
    {
     "name": "stdout",
     "output_type": "stream",
     "text": [
      "\n",
      "6. Count of missing values per column:\n",
      "orcid    29196\n",
      "dtype: int64\n"
     ]
    }
   ],
   "source": [
    "\n",
    "# 6. Check for Missing Values (count per column)\n",
    "print(\"\\n6. Count of missing values per column:\")\n",
    "missing_values = df.isnull().sum()\n",
    "# Only show columns with missing values\n",
    "print(missing_values[missing_values > 0])"
   ]
  },
  {
   "cell_type": "code",
   "execution_count": 25,
   "id": "6c6a620d",
   "metadata": {},
   "outputs": [
    {
     "name": "stdout",
     "output_type": "stream",
     "text": [
      "Number of columns with all empty lists: 0\n"
     ]
    }
   ],
   "source": [
    "empty_list_columns_count = 0\n",
    "for column in df.columns:\n",
    "    if all(isinstance(item, list) and not item for item in df[column]):\n",
    "        empty_list_columns_count += 1\n",
    "\n",
    "# Example usage:\n",
    "print(f\"Number of columns with all empty lists: {empty_list_columns_count}\")"
   ]
  },
  {
   "cell_type": "code",
   "execution_count": 26,
   "id": "671cc87d",
   "metadata": {},
   "outputs": [
    {
     "name": "stdout",
     "output_type": "stream",
     "text": [
      "\n",
      "7. Value counts for 'university_key':\n",
      "university_key\n",
      "GR_UOP              17085\n",
      "IT_UNISS             8167\n",
      "ES_UIB               6150\n",
      "PL_ZUT               3518\n",
      "FR_ULHN              2456\n",
      "FR_UAG               2160\n",
      "PT_UAC               1986\n",
      "HR_UNIDU             1208\n",
      "FO_UF                 632\n",
      "DE_HOCHSTRALSUND      505\n",
      "BG_BFU                400\n",
      "FI_AUAS                61\n",
      "SL_EMUNI               53\n",
      "Name: count, dtype: int64\n"
     ]
    }
   ],
   "source": [
    "# 7. Unique Value Counts for a specific column (Example: university_key)\n",
    "if 'university_key' in df.columns:\n",
    "    print(\"\\n7. Value counts for 'university_key':\")\n",
    "    print(df['university_key'].value_counts())\n",
    "else:\n",
    "    print(\"\\n7. 'university_key' column not found.\")"
   ]
  },
  {
   "cell_type": "code",
   "execution_count": 27,
   "id": "386fe544",
   "metadata": {},
   "outputs": [
    {
     "name": "stdout",
     "output_type": "stream",
     "text": [
      "\n",
      "Displaying a few random authors with all columns:\n",
      "                                     id  \\\n",
      "27616  https://openalex.org/A5043075188   \n",
      "35913  https://openalex.org/A5052873518   \n",
      "32150  https://openalex.org/A5114942097   \n",
      "\n",
      "                                                     ids  \\\n",
      "27616  {'openalex': 'https://openalex.org/A5043075188...   \n",
      "35913  {'openalex': 'https://openalex.org/A5052873518...   \n",
      "32150  {'openalex': 'https://openalex.org/A5114942097...   \n",
      "\n",
      "                 display_name  \\\n",
      "27616             Weidong Lyu   \n",
      "35913  Pascal-M. Aggensteiner   \n",
      "32150         P. E. Contarini   \n",
      "\n",
      "                               display_name_alternatives  \\\n",
      "27616                         [Weidong Lyu, Lyu Weidong]   \n",
      "35913  [P M Aggensteiner, Pascal‐M. Aggensteiner, Pas...   \n",
      "32150                    [PE Contarini, P. E. Contarini]   \n",
      "\n",
      "                                            affiliations  cited_by_count  \\\n",
      "27616  [{'institution': {'country_code': 'CN', 'displ...              43   \n",
      "35913  [{'institution': {'country_code': 'DE', 'displ...             968   \n",
      "32150  [{'institution': {'country_code': 'GP', 'displ...               0   \n",
      "\n",
      "                                 last_known_institutions  \\\n",
      "27616  [{'country_code': 'CN', 'display_name': 'Shant...   \n",
      "35913  [{'country_code': 'DE', 'display_name': 'Centr...   \n",
      "32150  [{'country_code': 'FR', 'display_name': 'École...   \n",
      "\n",
      "                                       orcid  \\\n",
      "27616  https://orcid.org/0000-0002-6774-873X   \n",
      "35913  https://orcid.org/0000-0002-1048-9044   \n",
      "32150                                   None   \n",
      "\n",
      "                                           summary_stats  works_count  \\\n",
      "27616  {'2yr_mean_citedness': 3.0, 'h_index': 3, 'i10...            5   \n",
      "35913  {'2yr_mean_citedness': 4.0, 'h_index': 13, 'i1...           55   \n",
      "32150  {'2yr_mean_citedness': 0.0, 'h_index': 0, 'i10...            2   \n",
      "\n",
      "                                          counts_by_year concepts  \\\n",
      "27616  [{'cited_by_count': 17, 'works_count': 0, 'yea...       []   \n",
      "35913  [{'cited_by_count': 194, 'works_count': 3, 'ye...       []   \n",
      "32150  [{'cited_by_count': 0, 'works_count': 2, 'year...       []   \n",
      "\n",
      "      created_date                updated_date  \\\n",
      "27616   2023-07-21  2025-04-19T00:38:33.080388   \n",
      "35913   2023-07-21  2025-05-03T15:58:58.824338   \n",
      "32150   2024-12-03  2025-04-20T12:58:34.627887   \n",
      "\n",
      "                                              x_concepts university_key  \n",
      "27616  [{'display_name': 'Genetics', 'id': 'https://o...       IT_UNISS  \n",
      "35913  [{'display_name': 'Psychology', 'id': 'https:/...         ES_UIB  \n",
      "32150  [{'display_name': 'Hydrothermal vent', 'id': '...         FR_UAG  \n"
     ]
    }
   ],
   "source": [
    "# Display a few random papers with all columns displayed\n",
    "print(\"\\nDisplaying a few random authors with all columns:\")\n",
    "random_authors = df.sample(3)\n",
    "print(random_authors)\n"
   ]
  },
  {
   "cell_type": "markdown",
   "id": "96ad86a0",
   "metadata": {},
   "source": [
    "---"
   ]
  },
  {
   "cell_type": "code",
   "execution_count": 28,
   "id": "59bf06af",
   "metadata": {},
   "outputs": [],
   "source": [
    "df.sample(1).to_csv('example_row.csv', sep=',', index=False)"
   ]
  },
  {
   "cell_type": "markdown",
   "id": "f3573d07",
   "metadata": {},
   "source": [
    "## Data preparation"
   ]
  },
  {
   "cell_type": "code",
   "execution_count": null,
   "id": "d6ee455c",
   "metadata": {},
   "outputs": [],
   "source": [
    "# drop the 'concepts' column (don't confuse with x-concepts which is fine)"
   ]
  },
  {
   "cell_type": "markdown",
   "id": "4cd8252f",
   "metadata": {},
   "source": [
    "Save back to a parquet file"
   ]
  },
  {
   "cell_type": "code",
   "execution_count": 29,
   "id": "ce43b6ae",
   "metadata": {},
   "outputs": [],
   "source": [
    "# parquet_file_path = 'authors_clean_data.parquet'\n",
    "\n",
    "# try:\n",
    "#     # Save the DataFrame to a Parquet file\n",
    "#     # `index=False` prevents writing the DataFrame index as a column\n",
    "#     df.to_parquet(parquet_file_path, index=False, engine='pyarrow')\n",
    "#     print(\n",
    "#         f\"Successfully saved data for {len(df)} papers to {parquet_file_path}\")\n",
    "\n",
    "# except Exception as e:\n",
    "#     print(f\"Error saving data to Parquet: {e}\")"
   ]
  }
 ],
 "metadata": {
  "kernelspec": {
   "display_name": "open_env",
   "language": "python",
   "name": "python3"
  },
  "language_info": {
   "codemirror_mode": {
    "name": "ipython",
    "version": 3
   },
   "file_extension": ".py",
   "mimetype": "text/x-python",
   "name": "python",
   "nbconvert_exporter": "python",
   "pygments_lexer": "ipython3",
   "version": "3.12.2"
  }
 },
 "nbformat": 4,
 "nbformat_minor": 5
}
