{
 "cells": [
  {
   "cell_type": "markdown",
   "id": "6c4d73bf",
   "metadata": {},
   "source": [
    "# Data clean up from the parquet file"
   ]
  },
  {
   "cell_type": "code",
   "execution_count": 1,
   "id": "d20471be",
   "metadata": {},
   "outputs": [],
   "source": [
    "import pandas as pd\n",
    "import sys  # To exit gracefully on error"
   ]
  },
  {
   "cell_type": "code",
   "execution_count": 2,
   "id": "1eae735f",
   "metadata": {},
   "outputs": [],
   "source": [
    "# --- Configuration ---\n",
    "# Set the path to the Parquet file\n",
    "# Update this path as needed\n",
    "PARQUET_FILE_PATH = 'authors_raw_data.parquet'"
   ]
  },
  {
   "cell_type": "code",
   "execution_count": 3,
   "id": "2c1c4911",
   "metadata": {},
   "outputs": [
    {
     "name": "stdout",
     "output_type": "stream",
     "text": [
      "Attempting to read Parquet file: authors_raw_data.parquet\n",
      "Successfully loaded Parquet file into DataFrame.\n"
     ]
    }
   ],
   "source": [
    "# --- Read the Parquet File ---\n",
    "print(f\"Attempting to read Parquet file: {PARQUET_FILE_PATH}\")\n",
    "try:\n",
    "    # Use pandas read_parquet function\n",
    "    # Specify the engine if needed (usually auto-detected, but 'pyarrow' is explicit)\n",
    "    df = pd.read_parquet(PARQUET_FILE_PATH, engine='pyarrow')\n",
    "    print(\"Successfully loaded Parquet file into DataFrame.\")\n",
    "\n",
    "except FileNotFoundError:\n",
    "    print(f\"Error: File not found at '{PARQUET_FILE_PATH}'\")\n",
    "    print(\"Please ensure the file exists and the path is correct.\")\n",
    "    sys.exit(1)  # Exit the script with an error code\n",
    "except ImportError:\n",
    "    print(\"Error: Missing dependency. Please install pandas and pyarrow:\")\n",
    "    print(\"pip install pandas pyarrow\")\n",
    "    sys.exit(1)\n",
    "except Exception as e:\n",
    "    print(f\"An unexpected error occurred while reading the file: {e}\")\n",
    "    sys.exit(1)"
   ]
  },
  {
   "cell_type": "code",
   "execution_count": 4,
   "id": "efd6cc5e",
   "metadata": {},
   "outputs": [
    {
     "name": "stdout",
     "output_type": "stream",
     "text": [
      "\n",
      "--- DataFrame Inspection ---\n",
      "\n",
      "1. Shape (rows, columns): (44381, 10)\n"
     ]
    }
   ],
   "source": [
    "# --- Inspect the DataFrame ---\n",
    "print(\"\\n--- DataFrame Inspection ---\")\n",
    "# 1. Dimensions (Rows, Columns)\n",
    "print(f\"\\n1. Shape (rows, columns): {df.shape}\")"
   ]
  },
  {
   "cell_type": "code",
   "execution_count": 5,
   "id": "897649f6",
   "metadata": {},
   "outputs": [
    {
     "name": "stdout",
     "output_type": "stream",
     "text": [
      "\n",
      "2. First 5 rows (head):\n",
      "                                        affiliations  cited_by_count  \\\n",
      "0  [{'institution': {'country_code': 'RU', 'displ...            8358   \n",
      "1  [{'institution': {'country_code': 'RU', 'displ...            2281   \n",
      "2  [{'institution': {'country_code': 'CH', 'displ...            1146   \n",
      "3  [{'institution': {'country_code': 'PL', 'displ...           11041   \n",
      "4  [{'institution': {'country_code': 'DE', 'displ...            9132   \n",
      "\n",
      "  last_known_insitution                                  orcid scopus  \\\n",
      "0                    []  https://orcid.org/0000-0002-2241-9764   None   \n",
      "1                    []  https://orcid.org/0000-0003-2938-7352   None   \n",
      "2                    []  https://orcid.org/0000-0002-5834-4987   None   \n",
      "3                    []                                   None   None   \n",
      "4                    []  https://orcid.org/0000-0002-3319-5655   None   \n",
      "\n",
      "  summary_stats  works_count concepts openalex_id university_key  \n",
      "0            []         1141       []        None         PL_ZUT  \n",
      "1            []          743       []        None         PL_ZUT  \n",
      "2            []          509       []        None         PL_ZUT  \n",
      "3            []          459       []        None         PL_ZUT  \n",
      "4            []          416       []        None         PL_ZUT  \n"
     ]
    }
   ],
   "source": [
    "# 2. First 5 Rows\n",
    "print(\"\\n2. First 5 rows (head):\")\n",
    "# pd.set_option('display.max_columns', None) # Uncomment to show all columns if wide\n",
    "print(df.head())\n",
    "# pd.reset_option('display.max_columns') # Uncomment to reset display option"
   ]
  },
  {
   "cell_type": "code",
   "execution_count": 6,
   "id": "48ae4b10",
   "metadata": {},
   "outputs": [
    {
     "name": "stdout",
     "output_type": "stream",
     "text": [
      "\n",
      "3. Column names:\n",
      "['affiliations', 'cited_by_count', 'last_known_insitution', 'orcid', 'scopus', 'summary_stats', 'works_count', 'concepts', 'openalex_id', 'university_key']\n"
     ]
    }
   ],
   "source": [
    "# 3. Column Names\n",
    "print(\"\\n3. Column names:\")\n",
    "print(list(df.columns))"
   ]
  },
  {
   "cell_type": "code",
   "execution_count": 7,
   "id": "580a117c",
   "metadata": {},
   "outputs": [
    {
     "name": "stdout",
     "output_type": "stream",
     "text": [
      "\n",
      "4. Data types and non-null info:\n",
      "<class 'pandas.core.frame.DataFrame'>\n",
      "RangeIndex: 44381 entries, 0 to 44380\n",
      "Data columns (total 10 columns):\n",
      " #   Column                 Non-Null Count  Dtype \n",
      "---  ------                 --------------  ----- \n",
      " 0   affiliations           44381 non-null  object\n",
      " 1   cited_by_count         44381 non-null  int64 \n",
      " 2   last_known_insitution  44381 non-null  object\n",
      " 3   orcid                  15185 non-null  object\n",
      " 4   scopus                 0 non-null      object\n",
      " 5   summary_stats          44381 non-null  object\n",
      " 6   works_count            44381 non-null  int64 \n",
      " 7   concepts               44381 non-null  object\n",
      " 8   openalex_id            0 non-null      object\n",
      " 9   university_key         44381 non-null  object\n",
      "dtypes: int64(2), object(8)\n",
      "memory usage: 3.4+ MB\n"
     ]
    }
   ],
   "source": [
    "# 4. Data Types and Non-Null Counts\n",
    "print(\"\\n4. Data types and non-null info:\")\n",
    "# This is very useful to see if data types were inferred correctly and find missing values\n",
    "df.info(verbose=True, show_counts=True)"
   ]
  },
  {
   "cell_type": "code",
   "execution_count": 8,
   "id": "6fc5646f",
   "metadata": {},
   "outputs": [
    {
     "name": "stdout",
     "output_type": "stream",
     "text": [
      "\n",
      "5. Summary statistics (numerical columns):\n",
      "       cited_by_count   works_count\n",
      "count    44381.000000  44381.000000\n",
      "mean       734.276627     35.071337\n",
      "std       2943.364003     80.553636\n",
      "min          0.000000      0.000000\n",
      "25%          6.000000      2.000000\n",
      "50%         56.000000      8.000000\n",
      "75%        399.000000     35.000000\n",
      "max     126565.000000   3113.000000\n"
     ]
    }
   ],
   "source": [
    "# 5. Summary Statistics (for numerical columns)\n",
    "print(\"\\n5. Summary statistics (numerical columns):\")\n",
    "# Includes count, mean, std, min, max, percentiles\n",
    "# Use .describe(include='all') to include stats for object/string columns too\n",
    "print(df.describe())"
   ]
  },
  {
   "cell_type": "code",
   "execution_count": 9,
   "id": "fcaaee0e",
   "metadata": {},
   "outputs": [
    {
     "name": "stdout",
     "output_type": "stream",
     "text": [
      "\n",
      "6. Count of missing values per column:\n",
      "orcid          29196\n",
      "scopus         44381\n",
      "openalex_id    44381\n",
      "dtype: int64\n"
     ]
    }
   ],
   "source": [
    "\n",
    "# 6. Check for Missing Values (count per column)\n",
    "print(\"\\n6. Count of missing values per column:\")\n",
    "missing_values = df.isnull().sum()\n",
    "# Only show columns with missing values\n",
    "print(missing_values[missing_values > 0])"
   ]
  },
  {
   "cell_type": "code",
   "execution_count": 10,
   "id": "671cc87d",
   "metadata": {},
   "outputs": [
    {
     "name": "stdout",
     "output_type": "stream",
     "text": [
      "\n",
      "7. Value counts for 'university_key':\n",
      "university_key\n",
      "GR_UOP              17085\n",
      "IT_UNISS             8167\n",
      "ES_UIB               6150\n",
      "PL_ZUT               3518\n",
      "FR_ULHN              2456\n",
      "FR_UAG               2160\n",
      "PT_UAC               1986\n",
      "HR_UNIDU             1208\n",
      "FO_UF                 632\n",
      "DE_HOCHSTRALSUND      505\n",
      "BG_BFU                400\n",
      "FI_AUAS                61\n",
      "SL_EMUNI               53\n",
      "Name: count, dtype: int64\n"
     ]
    }
   ],
   "source": [
    "# 7. Unique Value Counts for a specific column (Example: university_key)\n",
    "if 'university_key' in df.columns:\n",
    "    print(\"\\n7. Value counts for 'university_key':\")\n",
    "    print(df['university_key'].value_counts())\n",
    "else:\n",
    "    print(\"\\n7. 'university_key' column not found.\")"
   ]
  },
  {
   "cell_type": "code",
   "execution_count": 11,
   "id": "386fe544",
   "metadata": {},
   "outputs": [
    {
     "name": "stdout",
     "output_type": "stream",
     "text": [
      "\n",
      "Displaying a few random authors with all columns:\n",
      "                                            affiliations  cited_by_count  \\\n",
      "35501  [{'institution': {'country_code': 'IT', 'displ...             176   \n",
      "43498  [{'institution': {'country_code': 'FO', 'displ...              75   \n",
      "37714  [{'institution': {'country_code': 'ES', 'displ...             156   \n",
      "\n",
      "      last_known_insitution                                  orcid scopus  \\\n",
      "35501                    []  https://orcid.org/0000-0002-6889-4106   None   \n",
      "43498                    []  https://orcid.org/0000-0002-4663-6210   None   \n",
      "37714                    []  https://orcid.org/0000-0003-4153-3762   None   \n",
      "\n",
      "      summary_stats  works_count concepts openalex_id university_key  \n",
      "35501            []           81       []        None         ES_UIB  \n",
      "43498            []            7       []        None          FO_UF  \n",
      "37714            []           10       []        None         ES_UIB  \n"
     ]
    }
   ],
   "source": [
    "# Display a few random papers with all columns displayed\n",
    "print(\"\\nDisplaying a few random authors with all columns:\")\n",
    "random_authors = df.sample(3)\n",
    "print(random_authors)\n"
   ]
  },
  {
   "cell_type": "markdown",
   "id": "96ad86a0",
   "metadata": {},
   "source": [
    "---"
   ]
  },
  {
   "cell_type": "code",
   "execution_count": 12,
   "id": "59bf06af",
   "metadata": {},
   "outputs": [],
   "source": [
    "df.sample(1).to_csv('example_row.txt', sep='\\t', index=False)"
   ]
  },
  {
   "cell_type": "markdown",
   "id": "f3573d07",
   "metadata": {},
   "source": [
    "## Data preparation"
   ]
  },
  {
   "cell_type": "code",
   "execution_count": null,
   "id": "d6ee455c",
   "metadata": {},
   "outputs": [],
   "source": []
  },
  {
   "cell_type": "markdown",
   "id": "4cd8252f",
   "metadata": {},
   "source": [
    "Save back to a parquet file"
   ]
  },
  {
   "cell_type": "code",
   "execution_count": 13,
   "id": "ce43b6ae",
   "metadata": {},
   "outputs": [
    {
     "name": "stdout",
     "output_type": "stream",
     "text": [
      "Successfully saved data for 44381 papers to authors_clean_data.parquet\n"
     ]
    }
   ],
   "source": [
    "parquet_file_path = 'authors_clean_data.parquet'\n",
    "\n",
    "try:\n",
    "    # Save the DataFrame to a Parquet file\n",
    "    # `index=False` prevents writing the DataFrame index as a column\n",
    "    df.to_parquet(parquet_file_path, index=False, engine='pyarrow')\n",
    "    print(\n",
    "        f\"Successfully saved data for {len(df)} papers to {parquet_file_path}\")\n",
    "\n",
    "except Exception as e:\n",
    "    print(f\"Error saving data to Parquet: {e}\")"
   ]
  }
 ],
 "metadata": {
  "kernelspec": {
   "display_name": "open_env",
   "language": "python",
   "name": "python3"
  },
  "language_info": {
   "codemirror_mode": {
    "name": "ipython",
    "version": 3
   },
   "file_extension": ".py",
   "mimetype": "text/x-python",
   "name": "python",
   "nbconvert_exporter": "python",
   "pygments_lexer": "ipython3",
   "version": "3.12.2"
  }
 },
 "nbformat": 4,
 "nbformat_minor": 5
}
