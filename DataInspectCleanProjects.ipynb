{
 "cells": [
  {
   "cell_type": "code",
   "execution_count": 1,
   "id": "24f6f47d",
   "metadata": {},
   "outputs": [],
   "source": [
    "import pandas as pd\n",
    "import sys"
   ]
  },
  {
   "cell_type": "code",
   "execution_count": 2,
   "id": "13b1bea0",
   "metadata": {},
   "outputs": [],
   "source": [
    "# --- Configuration ---\n",
    "# Set the path to the Parquet file\n",
    "# Update this path as needed\n",
    "PARQUET_FILE_PATH = 'university_projects.parquet'"
   ]
  },
  {
   "cell_type": "code",
   "execution_count": 3,
   "id": "b8a75bb3",
   "metadata": {},
   "outputs": [
    {
     "name": "stdout",
     "output_type": "stream",
     "text": [
      "Successfully loaded Parquet file into DataFrame.\n"
     ]
    }
   ],
   "source": [
    "df = pd.read_parquet(PARQUET_FILE_PATH, engine='pyarrow')\n",
    "print(\"Successfully loaded Parquet file into DataFrame.\")"
   ]
  },
  {
   "cell_type": "code",
   "execution_count": 5,
   "id": "5fee6a68",
   "metadata": {},
   "outputs": [
    {
     "data": {
      "text/plain": [
       "(687, 17)"
      ]
     },
     "execution_count": 5,
     "metadata": {},
     "output_type": "execute_result"
    }
   ],
   "source": [
    "df.shape"
   ]
  },
  {
   "cell_type": "code",
   "execution_count": 6,
   "id": "31b9d7b4",
   "metadata": {},
   "outputs": [
    {
     "data": {
      "text/html": [
       "<div>\n",
       "<style scoped>\n",
       "    .dataframe tbody tr th:only-of-type {\n",
       "        vertical-align: middle;\n",
       "    }\n",
       "\n",
       "    .dataframe tbody tr th {\n",
       "        vertical-align: top;\n",
       "    }\n",
       "\n",
       "    .dataframe thead th {\n",
       "        text-align: right;\n",
       "    }\n",
       "</style>\n",
       "<table border=\"1\" class=\"dataframe\">\n",
       "  <thead>\n",
       "    <tr style=\"text-align: right;\">\n",
       "      <th></th>\n",
       "      <th>id</th>\n",
       "      <th>code</th>\n",
       "      <th>acronym</th>\n",
       "      <th>title</th>\n",
       "      <th>websiteUrl</th>\n",
       "      <th>startDate</th>\n",
       "      <th>endDate</th>\n",
       "      <th>callIdentifier</th>\n",
       "      <th>keywords</th>\n",
       "      <th>openAccessMandateForPublications</th>\n",
       "      <th>openAccessMandateForDataset</th>\n",
       "      <th>subjects</th>\n",
       "      <th>fundings</th>\n",
       "      <th>summary</th>\n",
       "      <th>granted</th>\n",
       "      <th>h2020Programmes</th>\n",
       "      <th>university_key</th>\n",
       "    </tr>\n",
       "  </thead>\n",
       "  <tbody>\n",
       "    <tr>\n",
       "      <th>0</th>\n",
       "      <td>corda_______::bfc079dba34c7caf247c0518e89232e4</td>\n",
       "      <td>290098</td>\n",
       "      <td>NEWGENPAK</td>\n",
       "      <td>New Generation of Functional Cellulose Fibre B...</td>\n",
       "      <td>None</td>\n",
       "      <td>2011-12-01</td>\n",
       "      <td>2015-11-30</td>\n",
       "      <td>FP7-PEOPLE-2011-ITN</td>\n",
       "      <td>None</td>\n",
       "      <td>False</td>\n",
       "      <td>False</td>\n",
       "      <td>None</td>\n",
       "      <td>[{'fundingStream': None, 'jurisdiction': 'EU',...</td>\n",
       "      <td>None</td>\n",
       "      <td>{'currency': None, 'fundedAmount': 0.0, 'total...</td>\n",
       "      <td>None</td>\n",
       "      <td>PL_ZUT</td>\n",
       "    </tr>\n",
       "    <tr>\n",
       "      <th>1</th>\n",
       "      <td>erasmusplus_::6f571366ff2a7ba6038e1eaf68871581</td>\n",
       "      <td>2019-1-PL01-KA202-065157</td>\n",
       "      <td>None</td>\n",
       "      <td>VISUAL LITERACY FOR ENGINEERING EDUCATION</td>\n",
       "      <td>None</td>\n",
       "      <td>None</td>\n",
       "      <td>None</td>\n",
       "      <td>None</td>\n",
       "      <td>Key Competences (incl. mathematics and literac...</td>\n",
       "      <td>False</td>\n",
       "      <td>False</td>\n",
       "      <td>None</td>\n",
       "      <td>[{'fundingStream': None, 'jurisdiction': 'EU',...</td>\n",
       "      <td>CONTEXTDigital technology has transformed the ...</td>\n",
       "      <td>{'currency': 'EUR', 'fundedAmount': 248028.0, ...</td>\n",
       "      <td>None</td>\n",
       "      <td>PL_ZUT</td>\n",
       "    </tr>\n",
       "    <tr>\n",
       "      <th>2</th>\n",
       "      <td>corda_____he::f92bfce1bb4183f66d6b4d6925fdfe2a</td>\n",
       "      <td>101084549</td>\n",
       "      <td>SAFE</td>\n",
       "      <td>SmartAqua4FuturE - SAFE</td>\n",
       "      <td>None</td>\n",
       "      <td>2022-11-01</td>\n",
       "      <td>2026-10-31</td>\n",
       "      <td>HORIZON-CL6-2022-FARM2FORK-01</td>\n",
       "      <td>None</td>\n",
       "      <td>False</td>\n",
       "      <td>True</td>\n",
       "      <td>[Integrated and sustainable freshwater bioecon...</td>\n",
       "      <td>[{'fundingStream': None, 'jurisdiction': 'EU',...</td>\n",
       "      <td>The objective of SAFE project is to reduce the...</td>\n",
       "      <td>{'currency': 'EUR', 'fundedAmount': 4488420.0,...</td>\n",
       "      <td>None</td>\n",
       "      <td>PL_ZUT</td>\n",
       "    </tr>\n",
       "    <tr>\n",
       "      <th>3</th>\n",
       "      <td>corda_______::dce7a795c11e7123a6a68b5a6f2354f2</td>\n",
       "      <td>285908</td>\n",
       "      <td>TRANSCOND</td>\n",
       "      <td>Development of film and coating products to re...</td>\n",
       "      <td>None</td>\n",
       "      <td>2011-11-01</td>\n",
       "      <td>2013-10-31</td>\n",
       "      <td>FP7-SME-2011</td>\n",
       "      <td>None</td>\n",
       "      <td>False</td>\n",
       "      <td>False</td>\n",
       "      <td>None</td>\n",
       "      <td>[{'fundingStream': None, 'jurisdiction': 'EU',...</td>\n",
       "      <td>None</td>\n",
       "      <td>{'currency': None, 'fundedAmount': 0.0, 'total...</td>\n",
       "      <td>None</td>\n",
       "      <td>PL_ZUT</td>\n",
       "    </tr>\n",
       "    <tr>\n",
       "      <th>4</th>\n",
       "      <td>erasmusplus_::81fbb2fe7053750d1aa372486c5f08bb</td>\n",
       "      <td>2018-1-PL01-KA202-050847</td>\n",
       "      <td>None</td>\n",
       "      <td>Empowering Female Engineering Entrepreneurs</td>\n",
       "      <td>None</td>\n",
       "      <td>None</td>\n",
       "      <td>None</td>\n",
       "      <td>None</td>\n",
       "      <td>Entrepreneurial learning - entrepreneurship ed...</td>\n",
       "      <td>False</td>\n",
       "      <td>False</td>\n",
       "      <td>None</td>\n",
       "      <td>[{'fundingStream': None, 'jurisdiction': 'EU',...</td>\n",
       "      <td>EMERGE is an EU Erasmus+ project bringing toge...</td>\n",
       "      <td>{'currency': 'EUR', 'fundedAmount': 203120.0, ...</td>\n",
       "      <td>None</td>\n",
       "      <td>PL_ZUT</td>\n",
       "    </tr>\n",
       "  </tbody>\n",
       "</table>\n",
       "</div>"
      ],
      "text/plain": [
       "                                               id                      code  \\\n",
       "0  corda_______::bfc079dba34c7caf247c0518e89232e4                    290098   \n",
       "1  erasmusplus_::6f571366ff2a7ba6038e1eaf68871581  2019-1-PL01-KA202-065157   \n",
       "2  corda_____he::f92bfce1bb4183f66d6b4d6925fdfe2a                 101084549   \n",
       "3  corda_______::dce7a795c11e7123a6a68b5a6f2354f2                    285908   \n",
       "4  erasmusplus_::81fbb2fe7053750d1aa372486c5f08bb  2018-1-PL01-KA202-050847   \n",
       "\n",
       "     acronym                                              title websiteUrl  \\\n",
       "0  NEWGENPAK  New Generation of Functional Cellulose Fibre B...       None   \n",
       "1       None          VISUAL LITERACY FOR ENGINEERING EDUCATION       None   \n",
       "2       SAFE                            SmartAqua4FuturE - SAFE       None   \n",
       "3  TRANSCOND  Development of film and coating products to re...       None   \n",
       "4       None        Empowering Female Engineering Entrepreneurs       None   \n",
       "\n",
       "    startDate     endDate                 callIdentifier  \\\n",
       "0  2011-12-01  2015-11-30            FP7-PEOPLE-2011-ITN   \n",
       "1        None        None                           None   \n",
       "2  2022-11-01  2026-10-31  HORIZON-CL6-2022-FARM2FORK-01   \n",
       "3  2011-11-01  2013-10-31                   FP7-SME-2011   \n",
       "4        None        None                           None   \n",
       "\n",
       "                                            keywords  \\\n",
       "0                                               None   \n",
       "1  Key Competences (incl. mathematics and literac...   \n",
       "2                                               None   \n",
       "3                                               None   \n",
       "4  Entrepreneurial learning - entrepreneurship ed...   \n",
       "\n",
       "   openAccessMandateForPublications  openAccessMandateForDataset  \\\n",
       "0                             False                        False   \n",
       "1                             False                        False   \n",
       "2                             False                         True   \n",
       "3                             False                        False   \n",
       "4                             False                        False   \n",
       "\n",
       "                                            subjects  \\\n",
       "0                                               None   \n",
       "1                                               None   \n",
       "2  [Integrated and sustainable freshwater bioecon...   \n",
       "3                                               None   \n",
       "4                                               None   \n",
       "\n",
       "                                            fundings  \\\n",
       "0  [{'fundingStream': None, 'jurisdiction': 'EU',...   \n",
       "1  [{'fundingStream': None, 'jurisdiction': 'EU',...   \n",
       "2  [{'fundingStream': None, 'jurisdiction': 'EU',...   \n",
       "3  [{'fundingStream': None, 'jurisdiction': 'EU',...   \n",
       "4  [{'fundingStream': None, 'jurisdiction': 'EU',...   \n",
       "\n",
       "                                             summary  \\\n",
       "0                                               None   \n",
       "1  CONTEXTDigital technology has transformed the ...   \n",
       "2  The objective of SAFE project is to reduce the...   \n",
       "3                                               None   \n",
       "4  EMERGE is an EU Erasmus+ project bringing toge...   \n",
       "\n",
       "                                             granted h2020Programmes  \\\n",
       "0  {'currency': None, 'fundedAmount': 0.0, 'total...            None   \n",
       "1  {'currency': 'EUR', 'fundedAmount': 248028.0, ...            None   \n",
       "2  {'currency': 'EUR', 'fundedAmount': 4488420.0,...            None   \n",
       "3  {'currency': None, 'fundedAmount': 0.0, 'total...            None   \n",
       "4  {'currency': 'EUR', 'fundedAmount': 203120.0, ...            None   \n",
       "\n",
       "  university_key  \n",
       "0         PL_ZUT  \n",
       "1         PL_ZUT  \n",
       "2         PL_ZUT  \n",
       "3         PL_ZUT  \n",
       "4         PL_ZUT  "
      ]
     },
     "execution_count": 6,
     "metadata": {},
     "output_type": "execute_result"
    }
   ],
   "source": [
    "df.head()"
   ]
  },
  {
   "cell_type": "code",
   "execution_count": 7,
   "id": "a69b498f",
   "metadata": {},
   "outputs": [
    {
     "name": "stdout",
     "output_type": "stream",
     "text": [
      "['id', 'code', 'acronym', 'title', 'websiteUrl', 'startDate', 'endDate', 'callIdentifier', 'keywords', 'openAccessMandateForPublications', 'openAccessMandateForDataset', 'subjects', 'fundings', 'summary', 'granted', 'h2020Programmes', 'university_key']\n"
     ]
    }
   ],
   "source": [
    "print(list(df.columns))"
   ]
  },
  {
   "cell_type": "code",
   "execution_count": 8,
   "id": "92f9803b",
   "metadata": {},
   "outputs": [
    {
     "name": "stdout",
     "output_type": "stream",
     "text": [
      "<class 'pandas.core.frame.DataFrame'>\n",
      "RangeIndex: 687 entries, 0 to 686\n",
      "Data columns (total 17 columns):\n",
      " #   Column                            Non-Null Count  Dtype \n",
      "---  ------                            --------------  ----- \n",
      " 0   id                                687 non-null    object\n",
      " 1   code                              687 non-null    object\n",
      " 2   acronym                           594 non-null    object\n",
      " 3   title                             675 non-null    object\n",
      " 4   websiteUrl                        22 non-null     object\n",
      " 5   startDate                         613 non-null    object\n",
      " 6   endDate                           575 non-null    object\n",
      " 7   callIdentifier                    553 non-null    object\n",
      " 8   keywords                          62 non-null     object\n",
      " 9   openAccessMandateForPublications  687 non-null    bool  \n",
      " 10  openAccessMandateForDataset       687 non-null    bool  \n",
      " 11  subjects                          336 non-null    object\n",
      " 12  fundings                          687 non-null    object\n",
      " 13  summary                           440 non-null    object\n",
      " 14  granted                           687 non-null    object\n",
      " 15  h2020Programmes                   0 non-null      object\n",
      " 16  university_key                    687 non-null    object\n",
      "dtypes: bool(2), object(15)\n",
      "memory usage: 82.0+ KB\n"
     ]
    }
   ],
   "source": [
    "df.info(verbose=True, show_counts=True)"
   ]
  },
  {
   "cell_type": "code",
   "execution_count": 9,
   "id": "58a54890",
   "metadata": {},
   "outputs": [
    {
     "name": "stdout",
     "output_type": "stream",
     "text": [
      "university_key\n",
      "GR_UOP              402\n",
      "ES_UIB               77\n",
      "PL_ZUT               45\n",
      "IT_UNISS             44\n",
      "HR_UNIDU             40\n",
      "BG_BFU               35\n",
      "FR_ULHN              29\n",
      "SL_EMUNI             12\n",
      "FR_UAG                1\n",
      "FO_UF                 1\n",
      "DE_HOCHSTRALSUND      1\n",
      "Name: count, dtype: int64\n"
     ]
    }
   ],
   "source": [
    "print(df['university_key'].value_counts())"
   ]
  },
  {
   "cell_type": "code",
   "execution_count": 10,
   "id": "4f5a24d7",
   "metadata": {},
   "outputs": [
    {
     "name": "stdout",
     "output_type": "stream",
     "text": [
      "<class 'pandas.core.frame.DataFrame'>\n",
      "RangeIndex: 687 entries, 0 to 686\n",
      "Data columns (total 14 columns):\n",
      " #   Column                            Non-Null Count  Dtype \n",
      "---  ------                            --------------  ----- \n",
      " 0   id                                687 non-null    object\n",
      " 1   code                              687 non-null    object\n",
      " 2   acronym                           594 non-null    object\n",
      " 3   title                             675 non-null    object\n",
      " 4   startDate                         613 non-null    object\n",
      " 5   endDate                           575 non-null    object\n",
      " 6   callIdentifier                    553 non-null    object\n",
      " 7   openAccessMandateForPublications  687 non-null    bool  \n",
      " 8   openAccessMandateForDataset       687 non-null    bool  \n",
      " 9   subjects                          336 non-null    object\n",
      " 10  fundings                          687 non-null    object\n",
      " 11  summary                           440 non-null    object\n",
      " 12  granted                           687 non-null    object\n",
      " 13  university_key                    687 non-null    object\n",
      "dtypes: bool(2), object(12)\n",
      "memory usage: 65.9+ KB\n"
     ]
    }
   ],
   "source": [
    "df = df.drop(columns=['h2020Programmes','websiteUrl','keywords'])\n",
    "df.info(verbose=True, show_counts=True)"
   ]
  },
  {
   "cell_type": "code",
   "execution_count": null,
   "id": "a4a7df37",
   "metadata": {},
   "outputs": [],
   "source": [
    "parquet_file_path = 'projects_clean.parquet'\n",
    "\n",
    "try:\n",
    "    df.to_parquet(parquet_file_path, index=False, engine='pyarrow')\n",
    "    print(\n",
    "        f\"Successfully saved data for {len(df)} papers to {parquet_file_path}\")\n",
    "\n",
    "except Exception as e:\n",
    "    print(f\"Error saving data to Parquet: {e}\")"
   ]
  },
  {
   "cell_type": "code",
   "execution_count": null,
   "id": "e74c069d",
   "metadata": {},
   "outputs": [],
   "source": []
  }
 ],
 "metadata": {
  "kernelspec": {
   "display_name": "open_env",
   "language": "python",
   "name": "python3"
  },
  "language_info": {
   "codemirror_mode": {
    "name": "ipython",
    "version": 3
   },
   "file_extension": ".py",
   "mimetype": "text/x-python",
   "name": "python",
   "nbconvert_exporter": "python",
   "pygments_lexer": "ipython3",
   "version": "3.12.2"
  }
 },
 "nbformat": 4,
 "nbformat_minor": 5
}
