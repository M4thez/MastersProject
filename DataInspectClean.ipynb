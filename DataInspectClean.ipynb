{
 "cells": [
  {
   "cell_type": "markdown",
   "id": "6c4d73bf",
   "metadata": {},
   "source": [
    "# Data clean up from the parquet file"
   ]
  },
  {
   "cell_type": "code",
   "execution_count": 1,
   "id": "d20471be",
   "metadata": {},
   "outputs": [],
   "source": [
    "import pandas as pd\n",
    "import sys  # To exit gracefully on error"
   ]
  },
  {
   "cell_type": "code",
   "execution_count": 2,
   "id": "1eae735f",
   "metadata": {},
   "outputs": [],
   "source": [
    "# --- Configuration ---\n",
    "# Set the path to the Parquet file\n",
    "# Update this path as needed\n",
    "PARQUET_FILE_PATH = 'university_papers_data_full.parquet'"
   ]
  },
  {
   "cell_type": "code",
   "execution_count": 3,
   "id": "2c1c4911",
   "metadata": {},
   "outputs": [
    {
     "name": "stdout",
     "output_type": "stream",
     "text": [
      "Attempting to read Parquet file: university_papers_data_full.parquet\n",
      "Successfully loaded Parquet file into DataFrame.\n"
     ]
    }
   ],
   "source": [
    "# --- Read the Parquet File ---\n",
    "print(f\"Attempting to read Parquet file: {PARQUET_FILE_PATH}\")\n",
    "try:\n",
    "    # Use pandas read_parquet function\n",
    "    # Specify the engine if needed (usually auto-detected, but 'pyarrow' is explicit)\n",
    "    df = pd.read_parquet(PARQUET_FILE_PATH, engine='pyarrow')\n",
    "    print(\"Successfully loaded Parquet file into DataFrame.\")\n",
    "\n",
    "except FileNotFoundError:\n",
    "    print(f\"Error: File not found at '{PARQUET_FILE_PATH}'\")\n",
    "    print(\"Please ensure the file exists and the path is correct.\")\n",
    "    sys.exit(1)  # Exit the script with an error code\n",
    "except ImportError:\n",
    "    print(\"Error: Missing dependency. Please install pandas and pyarrow:\")\n",
    "    print(\"pip install pandas pyarrow\")\n",
    "    sys.exit(1)\n",
    "except Exception as e:\n",
    "    print(f\"An unexpected error occurred while reading the file: {e}\")\n",
    "    sys.exit(1)"
   ]
  },
  {
   "cell_type": "code",
   "execution_count": 4,
   "id": "efd6cc5e",
   "metadata": {},
   "outputs": [
    {
     "name": "stdout",
     "output_type": "stream",
     "text": [
      "\n",
      "--- DataFrame Inspection ---\n",
      "\n",
      "1. Shape (rows, columns): (133964, 23)\n"
     ]
    }
   ],
   "source": [
    "# --- Inspect the DataFrame ---\n",
    "print(\"\\n--- DataFrame Inspection ---\")\n",
    "# 1. Dimensions (Rows, Columns)\n",
    "print(f\"\\n1. Shape (rows, columns): {df.shape}\")"
   ]
  },
  {
   "cell_type": "code",
   "execution_count": 5,
   "id": "897649f6",
   "metadata": {},
   "outputs": [
    {
     "name": "stdout",
     "output_type": "stream",
     "text": [
      "\n",
      "2. First 5 rows (head):\n",
      "                        openalex_id  \\\n",
      "0  https://openalex.org/W2059474375   \n",
      "1  https://openalex.org/W2096769811   \n",
      "2  https://openalex.org/W2769188897   \n",
      "3  https://openalex.org/W2012883856   \n",
      "4  https://openalex.org/W2884312484   \n",
      "\n",
      "                                                 doi language     type  \\\n",
      "0  https://doi.org/10.1016/j.progpolymsci.2012.04...       en  article   \n",
      "1             https://doi.org/10.1002/mame.201300008       en  article   \n",
      "2            https://doi.org/10.1111/1541-4337.12322       en  article   \n",
      "3       https://doi.org/10.1016/j.seppur.2010.03.021       en   review   \n",
      "4        https://doi.org/10.1016/j.omega.2018.07.004       en  article   \n",
      "\n",
      "                                               title publication_date  \\\n",
      "0  Biocomposites reinforced with natural fibers: ...       2012-05-02   \n",
      "1  Progress Report on Natural Fiber Reinforced Co...       2013-06-19   \n",
      "2             Active Packaging Applications for Food       2017-11-28   \n",
      "3  Photocatalytic membrane reactors (PMRs) in wat...       2010-04-01   \n",
      "4  Generalised framework for multi-criteria metho...       2018-07-21   \n",
      "\n",
      "                                    primary_location  \\\n",
      "0  {'is_accepted': False, 'is_oa': False, 'is_pub...   \n",
      "1  {'is_accepted': True, 'is_oa': True, 'is_publi...   \n",
      "2  {'is_accepted': True, 'is_oa': True, 'is_publi...   \n",
      "3  {'is_accepted': False, 'is_oa': False, 'is_pub...   \n",
      "4  {'is_accepted': True, 'is_oa': True, 'is_publi...   \n",
      "\n",
      "                                         open_access  \\\n",
      "0  {'any_repository_has_fulltext': False, 'is_oa'...   \n",
      "1  {'any_repository_has_fulltext': False, 'is_oa'...   \n",
      "2  {'any_repository_has_fulltext': True, 'is_oa':...   \n",
      "3  {'any_repository_has_fulltext': False, 'is_oa'...   \n",
      "4  {'any_repository_has_fulltext': True, 'is_oa':...   \n",
      "\n",
      "                                        institutions  \\\n",
      "0  [University of Toronto, University of Kassel, ...   \n",
      "1  [University of Kassel, University of Toronto, ...   \n",
      "2  [ZHAW Zurich University of Applied Sciences, N...   \n",
      "3         [West Pomeranian University of Technology]   \n",
      "4  [University of Szczecin, West Pomeranian Unive...   \n",
      "\n",
      "                                             authors  ...  is_retracted  \\\n",
      "0  [Omar Faruk, Andrzej K. Błędzki, Hans‐Peter Fi...  ...         False   \n",
      "1  [Omar Faruk, Andrzej K. Błędzki, Hans‐Peter Fi...  ...         False   \n",
      "2  [Selçuk Yildirim, Bettina Röcker, Marit Kvalvå...  ...         False   \n",
      "3                                     [Sylwia Mozia]  ...         False   \n",
      "4  [Jarosław Wątróbski, Jarosław Jankowski, Paweł...  ...         False   \n",
      "\n",
      "   is_paratext                                           abstract  \\\n",
      "0        False                                               None   \n",
      "1        False  This century has witnessed remarkable achievem...   \n",
      "2        False  Abstract The traditional role of food packagin...   \n",
      "3        False                                               None   \n",
      "4        False  Multi-Criteria Decision Analysis (MCDA) method...   \n",
      "\n",
      "                                       primary_topic  \\\n",
      "0  {'display_name': 'Natural Fiber Reinforced Com...   \n",
      "1  {'display_name': 'Natural Fiber Reinforced Com...   \n",
      "2  {'display_name': 'Nanocomposite Films for Food...   \n",
      "3  {'display_name': 'Advanced Photocatalysis Tech...   \n",
      "4  {'display_name': 'Multi-Criteria Decision Maki...   \n",
      "\n",
      "                                              topics  \\\n",
      "0  [{'display_name': 'Natural Fiber Reinforced Co...   \n",
      "1  [{'display_name': 'Natural Fiber Reinforced Co...   \n",
      "2  [{'display_name': 'Nanocomposite Films for Foo...   \n",
      "3  [{'display_name': 'Advanced Photocatalysis Tec...   \n",
      "4  [{'display_name': 'Multi-Criteria Decision Mak...   \n",
      "\n",
      "                                            keywords  \\\n",
      "0  [{'display_name': 'Biocomposite', 'id': 'https...   \n",
      "1  [{'display_name': 'Petrochemical', 'id': 'http...   \n",
      "2  [{'display_name': 'Active packaging', 'id': 'h...   \n",
      "3  [{'display_name': 'Membrane reactor', 'id': 'h...   \n",
      "4                                                 []   \n",
      "\n",
      "                                    cited_by_api_url  \\\n",
      "0  https://api.openalex.org/works?filter=cites:W2...   \n",
      "1  https://api.openalex.org/works?filter=cites:W2...   \n",
      "2  https://api.openalex.org/works?filter=cites:W2...   \n",
      "3  https://api.openalex.org/works?filter=cites:W2...   \n",
      "4  https://api.openalex.org/works?filter=cites:W2...   \n",
      "\n",
      "                 updated_date created_date university_key  \n",
      "0  2025-04-13T22:56:06.250439   2016-06-24         PL_ZUT  \n",
      "1  2025-04-18T05:52:13.993578   2016-06-24         PL_ZUT  \n",
      "2  2025-04-13T16:04:26.173239   2017-12-04         PL_ZUT  \n",
      "3  2025-03-17T13:33:42.845727   2016-06-24         PL_ZUT  \n",
      "4  2025-04-20T01:24:59.886744   2018-08-03         PL_ZUT  \n",
      "\n",
      "[5 rows x 23 columns]\n"
     ]
    }
   ],
   "source": [
    "# 2. First 5 Rows\n",
    "print(\"\\n2. First 5 rows (head):\")\n",
    "# pd.set_option('display.max_columns', None) # Uncomment to show all columns if wide\n",
    "print(df.head())\n",
    "# pd.reset_option('display.max_columns') # Uncomment to reset display option"
   ]
  },
  {
   "cell_type": "code",
   "execution_count": 6,
   "id": "48ae4b10",
   "metadata": {},
   "outputs": [
    {
     "name": "stdout",
     "output_type": "stream",
     "text": [
      "\n",
      "3. Column names:\n",
      "['openalex_id', 'doi', 'language', 'type', 'title', 'publication_date', 'primary_location', 'open_access', 'institutions', 'authors', 'cited_by_count', 'fwci', 'citation_normalized_percentile', 'is_retracted', 'is_paratext', 'abstract', 'primary_topic', 'topics', 'keywords', 'cited_by_api_url', 'updated_date', 'created_date', 'university_key']\n"
     ]
    }
   ],
   "source": [
    "# 3. Column Names\n",
    "print(\"\\n3. Column names:\")\n",
    "print(list(df.columns))"
   ]
  },
  {
   "cell_type": "code",
   "execution_count": 7,
   "id": "580a117c",
   "metadata": {},
   "outputs": [
    {
     "name": "stdout",
     "output_type": "stream",
     "text": [
      "\n",
      "4. Data types and non-null info:\n",
      "<class 'pandas.core.frame.DataFrame'>\n",
      "RangeIndex: 133964 entries, 0 to 133963\n",
      "Data columns (total 23 columns):\n",
      " #   Column                          Non-Null Count   Dtype  \n",
      "---  ------                          --------------   -----  \n",
      " 0   openalex_id                     133964 non-null  object \n",
      " 1   doi                             121318 non-null  object \n",
      " 2   language                        133311 non-null  object \n",
      " 3   type                            133964 non-null  object \n",
      " 4   title                           133621 non-null  object \n",
      " 5   publication_date                133964 non-null  object \n",
      " 6   primary_location                132680 non-null  object \n",
      " 7   open_access                     133964 non-null  object \n",
      " 8   institutions                    133964 non-null  object \n",
      " 9   authors                         133964 non-null  object \n",
      " 10  cited_by_count                  133964 non-null  int64  \n",
      " 11  fwci                            124437 non-null  float64\n",
      " 12  citation_normalized_percentile  132293 non-null  object \n",
      " 13  is_retracted                    133964 non-null  bool   \n",
      " 14  is_paratext                     133964 non-null  bool   \n",
      " 15  abstract                        84372 non-null   object \n",
      " 16  primary_topic                   132545 non-null  object \n",
      " 17  topics                          133964 non-null  object \n",
      " 18  keywords                        133964 non-null  object \n",
      " 19  cited_by_api_url                133964 non-null  object \n",
      " 20  updated_date                    133964 non-null  object \n",
      " 21  created_date                    133964 non-null  object \n",
      " 22  university_key                  133964 non-null  object \n",
      "dtypes: bool(2), float64(1), int64(1), object(19)\n",
      "memory usage: 21.7+ MB\n"
     ]
    }
   ],
   "source": [
    "# 4. Data Types and Non-Null Counts\n",
    "print(\"\\n4. Data types and non-null info:\")\n",
    "# This is very useful to see if data types were inferred correctly and find missing values\n",
    "df.info(verbose=True, show_counts=True)"
   ]
  },
  {
   "cell_type": "code",
   "execution_count": 8,
   "id": "6fc5646f",
   "metadata": {},
   "outputs": [
    {
     "name": "stdout",
     "output_type": "stream",
     "text": [
      "\n",
      "5. Summary statistics (numerical columns):\n",
      "       cited_by_count           fwci\n",
      "count   133964.000000  124437.000000\n",
      "mean        20.285942       1.755948\n",
      "std         77.344626       4.471464\n",
      "min          0.000000       0.000000\n",
      "25%          1.000000       0.000000\n",
      "50%          5.000000       0.665000\n",
      "75%         19.000000       1.920000\n",
      "max      10352.000000     330.051000\n"
     ]
    }
   ],
   "source": [
    "# 5. Summary Statistics (for numerical columns)\n",
    "print(\"\\n5. Summary statistics (numerical columns):\")\n",
    "# Includes count, mean, std, min, max, percentiles\n",
    "# Use .describe(include='all') to include stats for object/string columns too\n",
    "print(df.describe())"
   ]
  },
  {
   "cell_type": "code",
   "execution_count": 9,
   "id": "fcaaee0e",
   "metadata": {},
   "outputs": [
    {
     "name": "stdout",
     "output_type": "stream",
     "text": [
      "\n",
      "6. Count of missing values per column:\n",
      "doi                               12646\n",
      "language                            653\n",
      "title                               343\n",
      "primary_location                   1284\n",
      "fwci                               9527\n",
      "citation_normalized_percentile     1671\n",
      "abstract                          49592\n",
      "primary_topic                      1419\n",
      "dtype: int64\n"
     ]
    }
   ],
   "source": [
    "\n",
    "# 6. Check for Missing Values (count per column)\n",
    "print(\"\\n6. Count of missing values per column:\")\n",
    "missing_values = df.isnull().sum()\n",
    "# Only show columns with missing values\n",
    "print(missing_values[missing_values > 0])"
   ]
  },
  {
   "cell_type": "code",
   "execution_count": 10,
   "id": "671cc87d",
   "metadata": {},
   "outputs": [
    {
     "name": "stdout",
     "output_type": "stream",
     "text": [
      "\n",
      "7. Value counts for 'university_key':\n",
      "university_key\n",
      "GR_UOP              49574\n",
      "IT_UNISS            25083\n",
      "ES_UIB              21876\n",
      "PL_ZUT              13803\n",
      "FR_ULHN              6989\n",
      "PT_UAC               6534\n",
      "FR_UAG               3790\n",
      "HR_UNIDU             2660\n",
      "FO_UF                1791\n",
      "DE_HOCHSTRALSUND     1079\n",
      "BG_BFU                642\n",
      "FI_AUAS                76\n",
      "SL_EMUNI               67\n",
      "Name: count, dtype: int64\n"
     ]
    }
   ],
   "source": [
    "# 7. Unique Value Counts for a specific column (Example: university_key)\n",
    "if 'university_key' in df.columns:\n",
    "    print(\"\\n7. Value counts for 'university_key':\")\n",
    "    print(df['university_key'].value_counts())\n",
    "else:\n",
    "    print(\"\\n7. 'university_key' column not found.\")"
   ]
  },
  {
   "cell_type": "code",
   "execution_count": 11,
   "id": "3ec389e6",
   "metadata": {},
   "outputs": [
    {
     "name": "stdout",
     "output_type": "stream",
     "text": [
      "\n",
      "8. Data for the first paper (index 0):\n",
      "  - OpenAlex ID: https://openalex.org/W2059474375\n",
      "  - Title: Biocomposites reinforced with natural fibers: 2000–2010...\n",
      "  - University: PL_ZUT\n",
      "  - Cited By: 3697\n"
     ]
    }
   ],
   "source": [
    "# 8. Example: Accessing data for a specific paper (e.g., the first one)\n",
    "print(\"\\n8. Data for the first paper (index 0):\")\n",
    "try:\n",
    "    # Convert the first row to a dictionary for easier viewing\n",
    "    first_paper_data = df.iloc[0].to_dict()\n",
    "    # Print selected fields for brevity\n",
    "    print(f\"  - OpenAlex ID: {first_paper_data.get('openalex_id', 'N/A')}\")\n",
    "    # Preview title\n",
    "    print(f\"  - Title: {first_paper_data.get('title', 'N/A')[:80]}...\")\n",
    "    print(\n",
    "        f\"  - University: {first_paper_data.get('university_key', 'N/A')}\")\n",
    "    print(f\"  - Cited By: {first_paper_data.get('cited_by_count', 'N/A')}\")\n",
    "    # You could print the whole dictionary if needed: print(first_paper_data)\n",
    "except IndexError:\n",
    "    print(\"  DataFrame seems empty, cannot access index 0.\")"
   ]
  },
  {
   "cell_type": "code",
   "execution_count": 12,
   "id": "64bb2d91",
   "metadata": {},
   "outputs": [
    {
     "name": "stdout",
     "output_type": "stream",
     "text": [
      "\n",
      "9. Number of retracted papers: 19\n"
     ]
    }
   ],
   "source": [
    "# 9. Count of retracted papers\n",
    "if 'is_retracted' in df.columns:\n",
    "    # True is treated as 1, False as 0\n",
    "    num_retracted = df['is_retracted'].sum()\n",
    "    print(f\"\\n9. Number of retracted papers: {num_retracted}\")\n",
    "else:\n",
    "    print(\"\\n9. 'is_retracted' column not found.\")"
   ]
  },
  {
   "cell_type": "code",
   "execution_count": 13,
   "id": "94cd2b51",
   "metadata": {},
   "outputs": [
    {
     "name": "stdout",
     "output_type": "stream",
     "text": [
      "\n",
      "10. Number of paratext papers: 317\n"
     ]
    }
   ],
   "source": [
    "# 10. Count of retracted papers\n",
    "if 'is_paratext' in df.columns:\n",
    "    # True is treated as 1, False as 0\n",
    "    num_paratext = df['is_paratext'].sum()\n",
    "    print(f\"\\n10. Number of paratext papers: {num_paratext}\")\n",
    "else:\n",
    "    print(\"\\n10. 'is_paratext' column not found.\")"
   ]
  },
  {
   "cell_type": "code",
   "execution_count": 14,
   "id": "41914ff8",
   "metadata": {},
   "outputs": [
    {
     "name": "stdout",
     "output_type": "stream",
     "text": [
      "\n",
      "11. Example of a retracted paper:\n",
      "  - OpenAlex ID: https://openalex.org/W4281390396\n",
      "  - Title: Toxic and repellent impacts of botanical oils against Callosobruchus maculatus (...\n",
      "  - University: PL_ZUT\n",
      "  - Cited By: 15\n"
     ]
    }
   ],
   "source": [
    "# 11. Display one retracted paper\n",
    "if 'is_retracted' in df.columns and any(df['is_retracted']):\n",
    "    retracted_paper = df[df['is_retracted'] == True].iloc[0].to_dict()\n",
    "    print(\"\\n11. Example of a retracted paper:\")\n",
    "    print(f\"  - OpenAlex ID: {retracted_paper.get('openalex_id', 'N/A')}\")\n",
    "    print(f\"  - Title: {retracted_paper.get('title', 'N/A')[:80]}...\")\n",
    "    print(\n",
    "        f\"  - University: {retracted_paper.get('university_key', 'N/A')}\")\n",
    "    print(f\"  - Cited By: {retracted_paper.get('cited_by_count', 'N/A')}\")\n",
    "else:\n",
    "    print(\"\\n11. No retracted papers found or 'is_retracted' column missing.\")"
   ]
  },
  {
   "cell_type": "code",
   "execution_count": 15,
   "id": "1486cec5",
   "metadata": {},
   "outputs": [
    {
     "name": "stdout",
     "output_type": "stream",
     "text": [
      "\n",
      "12. Example of a paratext paper:\n",
      "  - OpenAlex ID: https://openalex.org/W4399874720\n",
      "  - University: PL_ZUT\n",
      "  - Cited By: 0\n",
      "  - Language: en\n"
     ]
    }
   ],
   "source": [
    "# 12. Display one paratext paper\n",
    "if 'is_paratext' in df.columns and any(df['is_paratext']):\n",
    "    paratext_paper = df[df['is_paratext'] == True].iloc[0].to_dict()\n",
    "    print(\"\\n12. Example of a paratext paper:\")\n",
    "    print(f\"  - OpenAlex ID: {paratext_paper.get('openalex_id', 'N/A')}\")\n",
    "    print(f\"  - University: {paratext_paper.get('university_key', 'N/A')}\")\n",
    "    print(f\"  - Cited By: {paratext_paper.get('cited_by_count', 'N/A')}\")\n",
    "    print(f\"  - Language: {paratext_paper.get('language', 'N/A')}\")\n",
    "else:\n",
    "    print(\"\\n12. No paratext papers found or 'is_paratext' column missing.\")\n"
   ]
  },
  {
   "cell_type": "code",
   "execution_count": 16,
   "id": "5724c79c",
   "metadata": {},
   "outputs": [
    {
     "name": "stdout",
     "output_type": "stream",
     "text": [
      "\n",
      "13. Number of papers without an abstract: 49592\n",
      "14. Number of papers with an abstract: 84372\n",
      "15. Percentage of papers with an abstract: 62.98%\n",
      "Total number of papers (shape[0]):  133964\n",
      "Total number of papers (sum):  133964\n"
     ]
    }
   ],
   "source": [
    "# 13. Count the papers without an abstract\n",
    "if 'abstract' in df.columns:\n",
    "    num_no_abstract = df['abstract'].isnull().sum()\n",
    "    print(f\"\\n13. Number of papers without an abstract: {num_no_abstract}\")\n",
    "    num_with_abstract = df['abstract'].notnull().sum()\n",
    "    print(f\"14. Number of papers with an abstract: {num_with_abstract}\")\n",
    "    print(f\"15. Percentage of papers with an abstract: {num_with_abstract / df.shape[0] * 100:.2f}%\")\n",
    "    print(\"Total number of papers (shape[0]): \", df.shape[0])\n",
    "    print(\"Total number of papers (sum): \", num_no_abstract + num_with_abstract)"
   ]
  },
  {
   "cell_type": "code",
   "execution_count": null,
   "id": "386fe544",
   "metadata": {},
   "outputs": [],
   "source": []
  },
  {
   "cell_type": "markdown",
   "id": "96ad86a0",
   "metadata": {},
   "source": [
    "---"
   ]
  },
  {
   "cell_type": "code",
   "execution_count": null,
   "id": "5e383d31",
   "metadata": {},
   "outputs": [],
   "source": []
  }
 ],
 "metadata": {
  "kernelspec": {
   "display_name": "open_env",
   "language": "python",
   "name": "python3"
  },
  "language_info": {
   "codemirror_mode": {
    "name": "ipython",
    "version": 3
   },
   "file_extension": ".py",
   "mimetype": "text/x-python",
   "name": "python",
   "nbconvert_exporter": "python",
   "pygments_lexer": "ipython3",
   "version": "3.12.2"
  }
 },
 "nbformat": 4,
 "nbformat_minor": 5
}
